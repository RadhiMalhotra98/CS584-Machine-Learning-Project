{
  "nbformat": 4,
  "nbformat_minor": 0,
  "metadata": {
    "colab": {
      "name": "LIVE_DEMO",
      "provenance": []
    },
    "kernelspec": {
      "name": "python3",
      "display_name": "Python 3"
    },
    "language_info": {
      "name": "python"
    }
  },
  "cells": [
    {
      "cell_type": "code",
      "execution_count": null,
      "metadata": {
        "id": "E5s8eAxN1h-w"
      },
      "outputs": [],
      "source": [
        ""
      ]
    },
    {
      "cell_type": "markdown",
      "metadata": {
        "id": "de206b86"
      },
      "source": [
        "# Importing Library\n"
      ]
    },
    {
      "cell_type": "code",
      "execution_count": null,
      "metadata": {
        "id": "ca67a66e"
      },
      "outputs": [],
      "source": [
        "from keras.models import model_from_json\n",
        "import os\n",
        "import pandas as pd\n",
        "import librosa\n",
        "import glob \n",
        "import numpy as np\n",
        "from sklearn.preprocessing import LabelEncoder\n",
        "import IPython\n",
        "import matplotlib.pyplot as plt\n",
        "import librosa.display\n"
      ]
    },
    {
      "cell_type": "markdown",
      "metadata": {
        "id": "486d85cd"
      },
      "source": [
        "# Loading Model"
      ]
    },
    {
      "cell_type": "code",
      "execution_count": null,
      "metadata": {
        "id": "f406e5a0",
        "outputId": "f69c55d4-f383-4aa4-9eb4-e65002a050cd"
      },
      "outputs": [
        {
          "name": "stdout",
          "output_type": "stream",
          "text": [
            "Loaded model from disk\n"
          ]
        }
      ],
      "source": [
        "# loading json\n",
        "loaded_model_json = open('saved_models/model.json', 'r').read()\n",
        "\n",
        "# creating model\n",
        "loaded_model = model_from_json(loaded_model_json)\n",
        "\n",
        "# load weights into new model\n",
        "loaded_model.load_weights(\"saved_models/Emotion_Detection_Model.h5\")\n",
        "\n",
        "print(\"Loaded model from disk\")"
      ]
    }
  ]
}