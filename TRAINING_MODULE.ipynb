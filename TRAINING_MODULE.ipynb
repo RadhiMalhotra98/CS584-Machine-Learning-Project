{
  "nbformat": 4,
  "nbformat_minor": 0,
  "metadata": {
    "colab": {
      "name": "training_module.pynb",
      "provenance": []
    },
    "kernelspec": {
      "name": "python3",
      "display_name": "Python 3"
    },
    "language_info": {
      "name": "python"
    }
  },
  "cells": [
    {
      "cell_type": "code",
      "execution_count": null,
      "metadata": {
        "id": "80eb7312"
      },
      "outputs": [],
      "source": [
        "import os"
      ]
    },
    {
      "cell_type": "code",
      "execution_count": null,
      "metadata": {
        "id": "edadb3cf"
      },
      "outputs": [],
      "source": [
        "ravdess_path = r\"dataset/Audio_Speech_Actors_01-24\"\n",
        "ravdess_list_folder = os.listdir(ravdess_path)"
      ]
    },
    {
      "cell_type": "code",
      "execution_count": null,
      "metadata": {
        "id": "241169f7",
        "outputId": "fa4fd2f1-4e6f-40cd-ab61-15d5fd79375c"
      },
      "outputs": [
        {
          "data": {
            "text/plain": [
              "['Actor_01',\n",
              " 'Actor_02',\n",
              " 'Actor_03',\n",
              " 'Actor_04',\n",
              " 'Actor_05',\n",
              " 'Actor_06',\n",
              " 'Actor_07',\n",
              " 'Actor_08',\n",
              " 'Actor_09',\n",
              " 'Actor_10',\n",
              " 'Actor_11',\n",
              " 'Actor_12',\n",
              " 'Actor_13',\n",
              " 'Actor_14',\n",
              " 'Actor_15',\n",
              " 'Actor_16',\n",
              " 'Actor_17',\n",
              " 'Actor_18',\n",
              " 'Actor_19',\n",
              " 'Actor_20',\n",
              " 'Actor_21',\n",
              " 'Actor_22',\n",
              " 'Actor_23',\n",
              " 'Actor_24']"
            ]
          },
          "execution_count": 9,
          "metadata": {},
          "output_type": "execute_result"
        }
      ],
      "source": [
        "ravdess_list_folder"
      ]
    },
    {
      "cell_type": "code",
      "execution_count": null,
      "metadata": {
        "id": "3853774f"
      },
      "outputs": [],
      "source": [
        "ravdess_list = []\n",
        "\n",
        "for sub_folder in ravdess_list_folder:\n",
        "    sub_folder_list = os.listdir(ravdess_path+\"/\"+sub_folder)\n",
        "    for path in sub_folder_list:\n",
        "        ravdess_list.append(ravdess_path+\"/\"+sub_folder+\"/\"+path)\n",
        "\n"
      ]
    },
    {
      "cell_type": "code",
      "execution_count": null,
      "metadata": {
        "id": "2cc9c6ca",
        "outputId": "aefa6926-90cd-4d26-9ed4-652b6176c099"
      },
      "outputs": [
        {
          "data": {
            "text/plain": [
              "['dataset/Audio_Speech_Actors_01-24/Actor_01/03-01-01-01-01-01-01.wav',\n",
              " 'dataset/Audio_Speech_Actors_01-24/Actor_01/03-01-01-01-01-02-01.wav',\n",
              " 'dataset/Audio_Speech_Actors_01-24/Actor_01/03-01-01-01-02-01-01.wav',\n",
              " 'dataset/Audio_Speech_Actors_01-24/Actor_01/03-01-01-01-02-02-01.wav',\n",
              " 'dataset/Audio_Speech_Actors_01-24/Actor_01/03-01-02-01-01-01-01.wav',\n",
              " 'dataset/Audio_Speech_Actors_01-24/Actor_01/03-01-02-01-01-02-01.wav',\n",
              " 'dataset/Audio_Speech_Actors_01-24/Actor_01/03-01-02-01-02-01-01.wav',\n",
              " 'dataset/Audio_Speech_Actors_01-24/Actor_01/03-01-02-01-02-02-01.wav',\n",
              " 'dataset/Audio_Speech_Actors_01-24/Actor_01/03-01-02-02-01-01-01.wav',\n",
              " 'dataset/Audio_Speech_Actors_01-24/Actor_01/03-01-02-02-01-02-01.wav',\n",
              " 'dataset/Audio_Speech_Actors_01-24/Actor_01/03-01-02-02-02-01-01.wav',\n",
              " 'dataset/Audio_Speech_Actors_01-24/Actor_01/03-01-02-02-02-02-01.wav',\n",
              " 'dataset/Audio_Speech_Actors_01-24/Actor_01/03-01-03-01-01-01-01.wav',\n",
              " 'dataset/Audio_Speech_Actors_01-24/Actor_01/03-01-03-01-01-02-01.wav',\n",
              " 'dataset/Audio_Speech_Actors_01-24/Actor_01/03-01-03-01-02-01-01.wav',\n",
              " 'dataset/Audio_Speech_Actors_01-24/Actor_01/03-01-03-01-02-02-01.wav',\n",
              " 'dataset/Audio_Speech_Actors_01-24/Actor_01/03-01-03-02-01-01-01.wav',\n",
              " 'dataset/Audio_Speech_Actors_01-24/Actor_01/03-01-03-02-01-02-01.wav',\n",
              " 'dataset/Audio_Speech_Actors_01-24/Actor_01/03-01-03-02-02-01-01.wav',\n",
              " 'dataset/Audio_Speech_Actors_01-24/Actor_01/03-01-03-02-02-02-01.wav']"
            ]
          },
          "execution_count": 11,
          "metadata": {},
          "output_type": "execute_result"
        }
      ],
      "source": [
        "ravdess_list[:20]"
      ]
    }
  ]
}