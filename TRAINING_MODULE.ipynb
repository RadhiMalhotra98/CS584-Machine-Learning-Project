{
  "nbformat": 4,
  "nbformat_minor": 0,
  "metadata": {
    "colab": {
      "name": "TRAINING_MODULE.ipynb",
      "provenance": []
    },
    "kernelspec": {
      "name": "python3",
      "display_name": "Python 3"
    },
    "language_info": {
      "name": "python"
    }
  },
  "cells": [
    {
      "cell_type": "code",
      "execution_count": null,
      "metadata": {
        "id": "80eb7312"
      },
      "outputs": [],
      "source": [
        "import os"
      ]
    },
    {
      "cell_type": "code",
      "execution_count": null,
      "metadata": {
        "id": "edadb3cf"
      },
      "outputs": [],
      "source": [
        "ravdess_path = r\"dataset/Audio_Speech_Actors_01-24\"\n",
        "ravdess_list_folder = os.listdir(ravdess_path)"
      ]
    },
    {
      "cell_type": "code",
      "execution_count": null,
      "metadata": {
        "id": "241169f7",
        "outputId": "fa4fd2f1-4e6f-40cd-ab61-15d5fd79375c"
      },
      "outputs": [
        {
          "data": {
            "text/plain": [
              "['Actor_01',\n",
              " 'Actor_02',\n",
              " 'Actor_03',\n",
              " 'Actor_04',\n",
              " 'Actor_05',\n",
              " 'Actor_06',\n",
              " 'Actor_07',\n",
              " 'Actor_08',\n",
              " 'Actor_09',\n",
              " 'Actor_10',\n",
              " 'Actor_11',\n",
              " 'Actor_12',\n",
              " 'Actor_13',\n",
              " 'Actor_14',\n",
              " 'Actor_15',\n",
              " 'Actor_16',\n",
              " 'Actor_17',\n",
              " 'Actor_18',\n",
              " 'Actor_19',\n",
              " 'Actor_20',\n",
              " 'Actor_21',\n",
              " 'Actor_22',\n",
              " 'Actor_23',\n",
              " 'Actor_24']"
            ]
          },
          "execution_count": 9,
          "metadata": {},
          "output_type": "execute_result"
        }
      ],
      "source": [
        "ravdess_list_folder"
      ]
    },
    {
      "cell_type": "code",
      "execution_count": null,
      "metadata": {
        "id": "3853774f"
      },
      "outputs": [],
      "source": [
        "ravdess_list = []\n",
        "\n",
        "for sub_folder in ravdess_list_folder:\n",
        "    sub_folder_list = os.listdir(ravdess_path+\"/\"+sub_folder)\n",
        "    for path in sub_folder_list:\n",
        "        ravdess_list.append(ravdess_path+\"/\"+sub_folder+\"/\"+path)\n",
        "\n"
      ]
    },
    {
      "cell_type": "code",
      "execution_count": null,
      "metadata": {
        "id": "2cc9c6ca",
        "outputId": "aefa6926-90cd-4d26-9ed4-652b6176c099"
      },
      "outputs": [
        {
          "data": {
            "text/plain": [
              "['dataset/Audio_Speech_Actors_01-24/Actor_01/03-01-01-01-01-01-01.wav',\n",
              " 'dataset/Audio_Speech_Actors_01-24/Actor_01/03-01-01-01-01-02-01.wav',\n",
              " 'dataset/Audio_Speech_Actors_01-24/Actor_01/03-01-01-01-02-01-01.wav',\n",
              " 'dataset/Audio_Speech_Actors_01-24/Actor_01/03-01-01-01-02-02-01.wav',\n",
              " 'dataset/Audio_Speech_Actors_01-24/Actor_01/03-01-02-01-01-01-01.wav',\n",
              " 'dataset/Audio_Speech_Actors_01-24/Actor_01/03-01-02-01-01-02-01.wav',\n",
              " 'dataset/Audio_Speech_Actors_01-24/Actor_01/03-01-02-01-02-01-01.wav',\n",
              " 'dataset/Audio_Speech_Actors_01-24/Actor_01/03-01-02-01-02-02-01.wav',\n",
              " 'dataset/Audio_Speech_Actors_01-24/Actor_01/03-01-02-02-01-01-01.wav',\n",
              " 'dataset/Audio_Speech_Actors_01-24/Actor_01/03-01-02-02-01-02-01.wav',\n",
              " 'dataset/Audio_Speech_Actors_01-24/Actor_01/03-01-02-02-02-01-01.wav',\n",
              " 'dataset/Audio_Speech_Actors_01-24/Actor_01/03-01-02-02-02-02-01.wav',\n",
              " 'dataset/Audio_Speech_Actors_01-24/Actor_01/03-01-03-01-01-01-01.wav',\n",
              " 'dataset/Audio_Speech_Actors_01-24/Actor_01/03-01-03-01-01-02-01.wav',\n",
              " 'dataset/Audio_Speech_Actors_01-24/Actor_01/03-01-03-01-02-01-01.wav',\n",
              " 'dataset/Audio_Speech_Actors_01-24/Actor_01/03-01-03-01-02-02-01.wav',\n",
              " 'dataset/Audio_Speech_Actors_01-24/Actor_01/03-01-03-02-01-01-01.wav',\n",
              " 'dataset/Audio_Speech_Actors_01-24/Actor_01/03-01-03-02-01-02-01.wav',\n",
              " 'dataset/Audio_Speech_Actors_01-24/Actor_01/03-01-03-02-02-01-01.wav',\n",
              " 'dataset/Audio_Speech_Actors_01-24/Actor_01/03-01-03-02-02-02-01.wav']"
            ]
          },
          "execution_count": 11,
          "metadata": {},
          "output_type": "execute_result"
        }
      ],
      "source": [
        "ravdess_list[:20]"
      ]
    },
    {
      "cell_type": "code",
      "execution_count": null,
      "metadata": {
        "id": "659889f1",
        "outputId": "e35ec7ac-a3ff-44b1-98ce-4ce79a670db9"
      },
      "outputs": [
        {
          "data": {
            "text/plain": [
              "'03-01-02-01-02-01-01.wav'"
            ]
          },
          "execution_count": 12,
          "metadata": {},
          "output_type": "execute_result"
        }
      ],
      "source": [
        "ravdess_list[6].split('/')[-1]"
      ]
    },
    {
      "cell_type": "code",
      "execution_count": null,
      "metadata": {
        "id": "21ea4c9f"
      },
      "outputs": [],
      "source": [
        "savee_path = r\"dataset\\AudioData\"\n",
        "savee_list_folder = os.listdir(savee_path)"
      ]
    },
    {
      "cell_type": "code",
      "execution_count": null,
      "metadata": {
        "id": "94adb6e0",
        "outputId": "5d512262-2587-4019-892f-106e52def05d"
      },
      "outputs": [
        {
          "data": {
            "text/plain": [
              "['DC', 'JE', 'JK', 'KL']"
            ]
          },
          "execution_count": 14,
          "metadata": {},
          "output_type": "execute_result"
        }
      ],
      "source": [
        "savee_list_folder"
      ]
    },
    {
      "cell_type": "code",
      "execution_count": null,
      "metadata": {
        "id": "3fee9dda"
      },
      "outputs": [],
      "source": [
        "savee_list = []\n",
        "\n",
        "for sub_folder in savee_list_folder:\n",
        "    sub_folder_list = os.listdir(savee_path+\"/\"+sub_folder)\n",
        "    for path in sub_folder_list:\n",
        "        savee_list.append(savee_path+\"/\"+sub_folder+\"/\"+path)\n",
        "\n"
      ]
    },
    {
      "cell_type": "code",
      "execution_count": null,
      "metadata": {
        "id": "b089f7f9",
        "outputId": "d0e6a12a-b1d0-4cbd-ff58-89db3f2bc33a"
      },
      "outputs": [
        {
          "data": {
            "text/plain": [
              "['dataset\\\\AudioData/DC/a01.wav',\n",
              " 'dataset\\\\AudioData/DC/a02.wav',\n",
              " 'dataset\\\\AudioData/DC/a03.wav',\n",
              " 'dataset\\\\AudioData/DC/a04.wav',\n",
              " 'dataset\\\\AudioData/DC/a05.wav',\n",
              " 'dataset\\\\AudioData/DC/a06.wav',\n",
              " 'dataset\\\\AudioData/DC/a07.wav',\n",
              " 'dataset\\\\AudioData/DC/a08.wav',\n",
              " 'dataset\\\\AudioData/DC/a09.wav',\n",
              " 'dataset\\\\AudioData/DC/a10.wav',\n",
              " 'dataset\\\\AudioData/DC/a11.wav',\n",
              " 'dataset\\\\AudioData/DC/a12.wav',\n",
              " 'dataset\\\\AudioData/DC/a13.wav',\n",
              " 'dataset\\\\AudioData/DC/a14.wav',\n",
              " 'dataset\\\\AudioData/DC/a15.wav',\n",
              " 'dataset\\\\AudioData/DC/d01.wav',\n",
              " 'dataset\\\\AudioData/DC/d02.wav',\n",
              " 'dataset\\\\AudioData/DC/d03.wav',\n",
              " 'dataset\\\\AudioData/DC/d04.wav',\n",
              " 'dataset\\\\AudioData/DC/d05.wav']"
            ]
          },
          "execution_count": 16,
          "metadata": {},
          "output_type": "execute_result"
        }
      ],
      "source": [
        "savee_list[:20]"
      ]
    }
  ]
}