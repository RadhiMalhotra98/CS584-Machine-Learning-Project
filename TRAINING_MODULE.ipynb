{
  "nbformat": 4,
  "nbformat_minor": 0,
  "metadata": {
    "colab": {
      "name": "TRAINING_MODULE",
      "provenance": []
    },
    "kernelspec": {
      "name": "python3",
      "display_name": "Python 3"
    },
    "language_info": {
      "name": "python"
    }
  },
  "cells": [
    {
      "cell_type": "code",
      "execution_count": null,
      "metadata": {
        "id": "-x_tcGLIm861"
      },
      "outputs": [],
      "source": [
        "import os"
      ]
    },
    {
      "cell_type": "code",
      "source": [
        "ravdess_path = r\"dataset/Audio_Speech_Actors_01-24\"\n",
        "ravdess_list_folder = os.listdir(ravdess_path)"
      ],
      "metadata": {
        "id": "QNKE3ueenBQA"
      },
      "execution_count": null,
      "outputs": []
    },
    {
      "cell_type": "code",
      "source": [
        "ravdess_list_folder"
      ],
      "metadata": {
        "id": "Cb6pNNeqnDZr"
      },
      "execution_count": null,
      "outputs": []
    },
    {
      "cell_type": "code",
      "source": [
        "ravdess_list = []\n",
        "\n",
        "for sub_folder in ravdess_list_folder:\n",
        "    sub_folder_list = os.listdir(ravdess_path+\"/\"+sub_folder)\n",
        "    for path in sub_folder_list:\n",
        "        ravdess_list.append(ravdess_path+\"/\"+sub_folder+\"/\"+path)"
      ],
      "metadata": {
        "id": "jwsPOskCnFgC"
      },
      "execution_count": null,
      "outputs": []
    },
    {
      "cell_type": "code",
      "source": [
        "ravdess_list[:20]"
      ],
      "metadata": {
        "id": "FFtJ84R2nIKR"
      },
      "execution_count": null,
      "outputs": []
    }
  ]
}