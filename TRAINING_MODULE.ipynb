{
  "nbformat": 4,
  "nbformat_minor": 0,
  "metadata": {
    "colab": {
      "name": "TRAINING_MODULE",
      "provenance": []
    },
    "kernelspec": {
      "name": "python3",
      "display_name": "Python 3"
    },
    "language_info": {
      "name": "python"
    }
  },
  "cells": [
    {
      "cell_type": "code",
      "execution_count": null,
      "metadata": {
        "id": "80eb7312"
      },
      "outputs": [],
      "source": [
        "import os"
      ]
    },
    {
      "cell_type": "code",
      "execution_count": null,
      "metadata": {
        "id": "edadb3cf"
      },
      "outputs": [],
      "source": [
        "ravdess_path = r\"dataset/Audio_Speech_Actors_01-24\"\n",
        "ravdess_list_folder = os.listdir(ravdess_path)"
      ]
    },
    {
      "cell_type": "code",
      "execution_count": null,
      "metadata": {
        "id": "241169f7",
        "outputId": "fa4fd2f1-4e6f-40cd-ab61-15d5fd79375c"
      },
      "outputs": [
        {
          "data": {
            "text/plain": [
              "['Actor_01',\n",
              " 'Actor_02',\n",
              " 'Actor_03',\n",
              " 'Actor_04',\n",
              " 'Actor_05',\n",
              " 'Actor_06',\n",
              " 'Actor_07',\n",
              " 'Actor_08',\n",
              " 'Actor_09',\n",
              " 'Actor_10',\n",
              " 'Actor_11',\n",
              " 'Actor_12',\n",
              " 'Actor_13',\n",
              " 'Actor_14',\n",
              " 'Actor_15',\n",
              " 'Actor_16',\n",
              " 'Actor_17',\n",
              " 'Actor_18',\n",
              " 'Actor_19',\n",
              " 'Actor_20',\n",
              " 'Actor_21',\n",
              " 'Actor_22',\n",
              " 'Actor_23',\n",
              " 'Actor_24']"
            ]
          },
          "execution_count": 9,
          "metadata": {},
          "output_type": "execute_result"
        }
      ],
      "source": [
        "ravdess_list_folder"
      ]
    },
    {
      "cell_type": "code",
      "execution_count": null,
      "metadata": {
        "id": "3853774f"
      },
      "outputs": [],
      "source": [
        "ravdess_list = []\n",
        "\n",
        "for sub_folder in ravdess_list_folder:\n",
        "    sub_folder_list = os.listdir(ravdess_path+\"/\"+sub_folder)\n",
        "    for path in sub_folder_list:\n",
        "        ravdess_list.append(ravdess_path+\"/\"+sub_folder+\"/\"+path)\n",
        "\n"
      ]
    },
    {
      "cell_type": "code",
      "execution_count": null,
      "metadata": {
        "id": "2cc9c6ca",
        "outputId": "aefa6926-90cd-4d26-9ed4-652b6176c099"
      },
      "outputs": [
        {
          "data": {
            "text/plain": [
              "['dataset/Audio_Speech_Actors_01-24/Actor_01/03-01-01-01-01-01-01.wav',\n",
              " 'dataset/Audio_Speech_Actors_01-24/Actor_01/03-01-01-01-01-02-01.wav',\n",
              " 'dataset/Audio_Speech_Actors_01-24/Actor_01/03-01-01-01-02-01-01.wav',\n",
              " 'dataset/Audio_Speech_Actors_01-24/Actor_01/03-01-01-01-02-02-01.wav',\n",
              " 'dataset/Audio_Speech_Actors_01-24/Actor_01/03-01-02-01-01-01-01.wav',\n",
              " 'dataset/Audio_Speech_Actors_01-24/Actor_01/03-01-02-01-01-02-01.wav',\n",
              " 'dataset/Audio_Speech_Actors_01-24/Actor_01/03-01-02-01-02-01-01.wav',\n",
              " 'dataset/Audio_Speech_Actors_01-24/Actor_01/03-01-02-01-02-02-01.wav',\n",
              " 'dataset/Audio_Speech_Actors_01-24/Actor_01/03-01-02-02-01-01-01.wav',\n",
              " 'dataset/Audio_Speech_Actors_01-24/Actor_01/03-01-02-02-01-02-01.wav',\n",
              " 'dataset/Audio_Speech_Actors_01-24/Actor_01/03-01-02-02-02-01-01.wav',\n",
              " 'dataset/Audio_Speech_Actors_01-24/Actor_01/03-01-02-02-02-02-01.wav',\n",
              " 'dataset/Audio_Speech_Actors_01-24/Actor_01/03-01-03-01-01-01-01.wav',\n",
              " 'dataset/Audio_Speech_Actors_01-24/Actor_01/03-01-03-01-01-02-01.wav',\n",
              " 'dataset/Audio_Speech_Actors_01-24/Actor_01/03-01-03-01-02-01-01.wav',\n",
              " 'dataset/Audio_Speech_Actors_01-24/Actor_01/03-01-03-01-02-02-01.wav',\n",
              " 'dataset/Audio_Speech_Actors_01-24/Actor_01/03-01-03-02-01-01-01.wav',\n",
              " 'dataset/Audio_Speech_Actors_01-24/Actor_01/03-01-03-02-01-02-01.wav',\n",
              " 'dataset/Audio_Speech_Actors_01-24/Actor_01/03-01-03-02-02-01-01.wav',\n",
              " 'dataset/Audio_Speech_Actors_01-24/Actor_01/03-01-03-02-02-02-01.wav']"
            ]
          },
          "execution_count": 11,
          "metadata": {},
          "output_type": "execute_result"
        }
      ],
      "source": [
        "ravdess_list[:20]"
      ]
    },
    {
      "cell_type": "code",
      "execution_count": null,
      "metadata": {
        "id": "659889f1",
        "outputId": "e35ec7ac-a3ff-44b1-98ce-4ce79a670db9"
      },
      "outputs": [
        {
          "data": {
            "text/plain": [
              "'03-01-02-01-02-01-01.wav'"
            ]
          },
          "execution_count": 12,
          "metadata": {},
          "output_type": "execute_result"
        }
      ],
      "source": [
        "ravdess_list[6].split('/')[-1]"
      ]
    },
    {
      "cell_type": "code",
      "execution_count": null,
      "metadata": {
        "id": "21ea4c9f"
      },
      "outputs": [],
      "source": [
        "savee_path = r\"dataset\\AudioData\"\n",
        "savee_list_folder = os.listdir(savee_path)"
      ]
    },
    {
      "cell_type": "code",
      "execution_count": null,
      "metadata": {
        "id": "94adb6e0",
        "outputId": "5d512262-2587-4019-892f-106e52def05d"
      },
      "outputs": [
        {
          "data": {
            "text/plain": [
              "['DC', 'JE', 'JK', 'KL']"
            ]
          },
          "execution_count": 14,
          "metadata": {},
          "output_type": "execute_result"
        }
      ],
      "source": [
        "savee_list_folder"
      ]
    },
    {
      "cell_type": "code",
      "execution_count": null,
      "metadata": {
        "id": "3fee9dda"
      },
      "outputs": [],
      "source": [
        "savee_list = []\n",
        "\n",
        "for sub_folder in savee_list_folder:\n",
        "    sub_folder_list = os.listdir(savee_path+\"/\"+sub_folder)\n",
        "    for path in sub_folder_list:\n",
        "        savee_list.append(savee_path+\"/\"+sub_folder+\"/\"+path)\n",
        "\n"
      ]
    },
    {
      "cell_type": "code",
      "execution_count": null,
      "metadata": {
        "id": "b089f7f9",
        "outputId": "d0e6a12a-b1d0-4cbd-ff58-89db3f2bc33a"
      },
      "outputs": [
        {
          "data": {
            "text/plain": [
              "['dataset\\\\AudioData/DC/a01.wav',\n",
              " 'dataset\\\\AudioData/DC/a02.wav',\n",
              " 'dataset\\\\AudioData/DC/a03.wav',\n",
              " 'dataset\\\\AudioData/DC/a04.wav',\n",
              " 'dataset\\\\AudioData/DC/a05.wav',\n",
              " 'dataset\\\\AudioData/DC/a06.wav',\n",
              " 'dataset\\\\AudioData/DC/a07.wav',\n",
              " 'dataset\\\\AudioData/DC/a08.wav',\n",
              " 'dataset\\\\AudioData/DC/a09.wav',\n",
              " 'dataset\\\\AudioData/DC/a10.wav',\n",
              " 'dataset\\\\AudioData/DC/a11.wav',\n",
              " 'dataset\\\\AudioData/DC/a12.wav',\n",
              " 'dataset\\\\AudioData/DC/a13.wav',\n",
              " 'dataset\\\\AudioData/DC/a14.wav',\n",
              " 'dataset\\\\AudioData/DC/a15.wav',\n",
              " 'dataset\\\\AudioData/DC/d01.wav',\n",
              " 'dataset\\\\AudioData/DC/d02.wav',\n",
              " 'dataset\\\\AudioData/DC/d03.wav',\n",
              " 'dataset\\\\AudioData/DC/d04.wav',\n",
              " 'dataset\\\\AudioData/DC/d05.wav']"
            ]
          },
          "execution_count": 16,
          "metadata": {},
          "output_type": "execute_result"
        }
      ],
      "source": [
        "savee_list[:20]"
      ]
    },
    {
      "cell_type": "code",
      "execution_count": null,
      "metadata": {
        "id": "82e39b51",
        "outputId": "17af7882-e47c-4249-d7de-b9e16f9cc1cd"
      },
      "outputs": [
        {
          "data": {
            "text/plain": [
              "'a07.wav'"
            ]
          },
          "execution_count": 17,
          "metadata": {},
          "output_type": "execute_result"
        }
      ],
      "source": [
        "savee_list[6].split('/')[-1]"
      ]
    },
    {
      "cell_type": "code",
      "execution_count": null,
      "metadata": {
        "id": "992089c4"
      },
      "outputs": [],
      "source": [
        "import librosa.display\n",
        "import numpy as np\n",
        "import matplotlib.pyplot as plt\n",
        "import tensorflow as tf\n",
        "import os\n",
        "import pandas as pd\n",
        "import librosa\n",
        "import glob \n",
        "from matplotlib.pyplot import specgram"
      ]
    },
    {
      "cell_type": "code",
      "execution_count": null,
      "metadata": {
        "id": "c192a5ae"
      },
      "outputs": [],
      "source": [
        "def plotAudioSpec(path):\n",
        "    data, sampling_rate = librosa.load(path)\n",
        "    plt.figure(figsize=(15, 5))\n",
        "    librosa.display.waveplot(data, sr=sampling_rate)"
      ]
    },
    {
      "cell_type": "code",
      "execution_count": null,
      "metadata": {
        "id": "08dd685a",
        "outputId": "3a0638fc-08a0-4650-e00a-703c64b65aaa"
      },
      "outputs": [
        {
          "data": {
            "image/png": "[encoded data removed]",
            "text/plain": [
              "<Figure size 1080x360 with 1 Axes>"
            ]
          },
          "metadata": {
            "needs_background": "light"
          },
          "output_type": "display_data"
        }
      ],
      "source": [
        "plotAudioSpec(ravdess_list[2])"
      ]
    },
    {
      "cell_type": "code",
      "execution_count": null,
      "metadata": {
        "id": "b41ee574",
        "outputId": "5161834f-5c38-4ad9-bfa1-d3c06452986e"
      },
      "outputs": [
        {
          "data": {
            "image/png": "[encoded data removed]",
            "text/plain": [
              "<Figure size 1080x360 with 1 Axes>"
            ]
          },
          "metadata": {
            "needs_background": "light"
          },
          "output_type": "display_data"
        }
      ],
      "source": [
        "plotAudioSpec(ravdess_list[5])"
      ]
    },
    {
      "cell_type": "code",
      "execution_count": null,
      "metadata": {
        "id": "32564b01",
        "outputId": "fa199e02-13a5-43be-a873-7e596810d521"
      },
      "outputs": [
        {
          "data": {
            "image/png": "[encoded data removed]",
            "text/plain": [
              "<Figure size 1080x360 with 1 Axes>"
            ]
          },
          "metadata": {
            "needs_background": "light"
          },
          "output_type": "display_data"
        }
      ],
      "source": [
        "plotAudioSpec(savee_list[2])"
      ]
    },
    {
      "cell_type": "code",
      "execution_count": null,
      "metadata": {
        "id": "a6d51f68",
        "outputId": "f73510e5-164f-4669-be51-36ee1944919f"
      },
      "outputs": [
        {
          "data": {
            "image/png": "[encoded data removed]",
            "text/plain": [
              "<Figure size 1080x360 with 1 Axes>"
            ]
          },
          "metadata": {
            "needs_background": "light"
          },
          "output_type": "display_data"
        }
      ],
      "source": [
        "plotAudioSpec(savee_list[3])"
      ]
    },
    {
      "cell_type": "code",
      "execution_count": null,
      "metadata": {
        "id": "0c54595a",
        "outputId": "d925df79-b69a-40c4-e14b-bcab850f47b3"
      },
      "outputs": [
        {
          "name": "stdout",
          "output_type": "stream",
          "text": [
            "There are  1440 files in RADVESS\n"
          ]
        }
      ],
      "source": [
        "print('There are ',len(ravdess_list),'files in RADVESS')"
      ]
    },
    {
      "cell_type": "code",
      "execution_count": null,
      "metadata": {
        "id": "c39cef23",
        "outputId": "e126058f-7131-4612-9558-bd8085f1afcf"
      },
      "outputs": [
        {
          "name": "stdout",
          "output_type": "stream",
          "text": [
            "There are  480 files in SAVEE\n"
          ]
        }
      ],
      "source": [
        "print('There are ',len(savee_list),'files in SAVEE')"
      ]
    },
    {
      "cell_type": "code",
      "execution_count": null,
      "metadata": {
        "id": "fad8e96a"
      },
      "outputs": [],
      "source": [
        "import matplotlib.pyplot as plt\n",
        "import scipy.io.wavfile\n",
        "import numpy as np\n",
        "import sys"
      ]
    },
    {
      "cell_type": "code",
      "execution_count": null,
      "metadata": {
        "id": "280ff5f1"
      },
      "outputs": [],
      "source": [
        "\n",
        "sr,x = scipy.io.wavfile.read(savee_list[3])\n",
        "\n",
        "## Parameters: 10ms step, 30ms window\n",
        "nstep = int(sr * 0.01)\n",
        "nwin  = int(sr * 0.03)\n",
        "nfft = nwin\n",
        "\n",
        "window = np.hamming(nwin)"
      ]
    },
    {
      "cell_type": "code",
      "execution_count": null,
      "metadata": {
        "id": "098eb421",
        "outputId": "f0e70d86-589c-4981-c42e-8d15ce3a861f"
      },
      "outputs": [
        {
          "data": {
            "image/png": "[encoded data removed]",
            "text/plain": [
              "<Figure size 432x288 with 1 Axes>"
            ]
          },
          "metadata": {
            "needs_background": "light"
          },
          "output_type": "display_data"
        }
      ],
      "source": [
        "nn = range(nwin, len(x), nstep)\n",
        "\n",
        "X = np.zeros( (len(nn), nfft//2) )\n",
        "\n",
        "for i,n in enumerate(nn):\n",
        "    xseg = x[n-nwin:n]\n",
        "    z = np.fft.fft(window * xseg, nfft)\n",
        "    X[i,:] = np.log(np.abs(z[:nfft//2]))\n",
        "\n",
        "plt.imshow(X.T, interpolation='nearest',\n",
        "    origin='lower',\n",
        "    aspect='auto')\n",
        "\n",
        "plt.show()"
      ]
    },
    {
      "cell_type": "code",
      "execution_count": null,
      "metadata": {
        "id": "91b3d6b9"
      },
      "outputs": [],
      "source": [
        "# Setting the labels of files"
      ]
    },
    {
      "cell_type": "code",
      "execution_count": null,
      "metadata": {
        "id": "12b8dbb1"
      },
      "outputs": [],
      "source": [
        "all_files_path =  savee_list + ravdess_list\n",
        "    "
      ]
    },
    {
      "cell_type": "code",
      "execution_count": null,
      "metadata": {
        "id": "037a8a1b",
        "outputId": "e4977fb4-5883-43b6-aad5-6e95acb62000"
      },
      "outputs": [
        {
          "data": {
            "text/plain": [
              "1920"
            ]
          },
          "execution_count": 31,
          "metadata": {},
          "output_type": "execute_result"
        }
      ],
      "source": [
        "len(all_files_path)"
      ]
    },
    {
      "cell_type": "code",
      "execution_count": null,
      "metadata": {
        "id": "8bacaeef"
      },
      "outputs": [],
      "source": [
        "all_files_feeling_list=[]\n",
        "\n",
        "\n",
        "for item in all_files_path:\n",
        "    item = item.split('/')[-1]\n",
        "    if item[6:-16]=='02' and int(item[18:-4])%2==0:\n",
        "        all_files_feeling_list.append('female_calm')\n",
        "    elif item[6:-16]=='02' and int(item[18:-4])%2==1:\n",
        "        all_files_feeling_list.append('male_calm')\n",
        "    elif item[6:-16]=='03' and int(item[18:-4])%2==0:\n",
        "        all_files_feeling_list.append('female_happy')\n",
        "    elif item[6:-16]=='03' and int(item[18:-4])%2==1:\n",
        "        all_files_feeling_list.append('male_happy')\n",
        "    elif item[6:-16]=='04' and int(item[18:-4])%2==0:\n",
        "        all_files_feeling_list.append('female_sad')\n",
        "    elif item[6:-16]=='04' and int(item[18:-4])%2==1:\n",
        "        all_files_feeling_list.append('male_sad')\n",
        "    elif item[6:-16]=='05' and int(item[18:-4])%2==0:\n",
        "        all_files_feeling_list.append('female_angry')\n",
        "    elif item[6:-16]=='05' and int(item[18:-4])%2==1:\n",
        "        all_files_feeling_list.append('male_angry')\n",
        "    elif item[6:-16]=='06' and int(item[18:-4])%2==0:\n",
        "        all_files_feeling_list.append('female_fearful')\n",
        "    elif item[6:-16]=='06' and int(item[18:-4])%2==1:\n",
        "        all_files_feeling_list.append('male_fearful')\n",
        "    elif item[:1]=='a':\n",
        "        all_files_feeling_list.append('male_angry')\n",
        "    elif item[:1]=='f':\n",
        "        all_files_feeling_list.append('male_fearful')\n",
        "    elif item[:1]=='h':\n",
        "        all_files_feeling_list.append('male_happy')\n",
        "#     elif item[:1]=='n':\n",
        "#         all_files_feeling_list.append('neutral')\n",
        "    elif item[:2]=='sa':\n",
        "        all_files_feeling_list.append('male_sad')"
      ]
    },
    {
      "cell_type": "code",
      "execution_count": null,
      "metadata": {
        "id": "ee8adfb9"
      },
      "outputs": [],
      "source": [
        "labels = pd.DataFrame(all_files_feeling_list)\n"
      ]
    },
    {
      "cell_type": "code",
      "execution_count": null,
      "metadata": {
        "id": "a9be29e2",
        "outputId": "e65e3e81-4525-44df-a49c-5f9c868d5e19"
      },
      "outputs": [
        {
          "data": {
            "text/html": [
              "<div>\n",
              "<style scoped>\n",
              "    .dataframe tbody tr th:only-of-type {\n",
              "        vertical-align: middle;\n",
              "    }\n",
              "\n",
              "    .dataframe tbody tr th {\n",
              "        vertical-align: top;\n",
              "    }\n",
              "\n",
              "    .dataframe thead th {\n",
              "        text-align: right;\n",
              "    }\n",
              "</style>\n",
              "<table border=\"1\" class=\"dataframe\">\n",
              "  <thead>\n",
              "    <tr style=\"text-align: right;\">\n",
              "      <th></th>\n",
              "      <th>0</th>\n",
              "    </tr>\n",
              "  </thead>\n",
              "  <tbody>\n",
              "    <tr>\n",
              "      <th>0</th>\n",
              "      <td>male_angry</td>\n",
              "    </tr>\n",
              "    <tr>\n",
              "      <th>1</th>\n",
              "      <td>male_angry</td>\n",
              "    </tr>\n",
              "    <tr>\n",
              "      <th>2</th>\n",
              "      <td>male_angry</td>\n",
              "    </tr>\n",
              "    <tr>\n",
              "      <th>3</th>\n",
              "      <td>male_angry</td>\n",
              "    </tr>\n",
              "    <tr>\n",
              "      <th>4</th>\n",
              "      <td>male_angry</td>\n",
              "    </tr>\n",
              "    <tr>\n",
              "      <th>5</th>\n",
              "      <td>male_angry</td>\n",
              "    </tr>\n",
              "    <tr>\n",
              "      <th>6</th>\n",
              "      <td>male_angry</td>\n",
              "    </tr>\n",
              "    <tr>\n",
              "      <th>7</th>\n",
              "      <td>male_angry</td>\n",
              "    </tr>\n",
              "    <tr>\n",
              "      <th>8</th>\n",
              "      <td>male_angry</td>\n",
              "    </tr>\n",
              "    <tr>\n",
              "      <th>9</th>\n",
              "      <td>male_angry</td>\n",
              "    </tr>\n",
              "    <tr>\n",
              "      <th>10</th>\n",
              "      <td>male_angry</td>\n",
              "    </tr>\n",
              "    <tr>\n",
              "      <th>11</th>\n",
              "      <td>male_angry</td>\n",
              "    </tr>\n",
              "    <tr>\n",
              "      <th>12</th>\n",
              "      <td>male_angry</td>\n",
              "    </tr>\n",
              "    <tr>\n",
              "      <th>13</th>\n",
              "      <td>male_angry</td>\n",
              "    </tr>\n",
              "    <tr>\n",
              "      <th>14</th>\n",
              "      <td>male_angry</td>\n",
              "    </tr>\n",
              "    <tr>\n",
              "      <th>15</th>\n",
              "      <td>male_fearful</td>\n",
              "    </tr>\n",
              "    <tr>\n",
              "      <th>16</th>\n",
              "      <td>male_fearful</td>\n",
              "    </tr>\n",
              "    <tr>\n",
              "      <th>17</th>\n",
              "      <td>male_fearful</td>\n",
              "    </tr>\n",
              "    <tr>\n",
              "      <th>18</th>\n",
              "      <td>male_fearful</td>\n",
              "    </tr>\n",
              "    <tr>\n",
              "      <th>19</th>\n",
              "      <td>male_fearful</td>\n",
              "    </tr>\n",
              "    <tr>\n",
              "      <th>20</th>\n",
              "      <td>male_fearful</td>\n",
              "    </tr>\n",
              "    <tr>\n",
              "      <th>21</th>\n",
              "      <td>male_fearful</td>\n",
              "    </tr>\n",
              "    <tr>\n",
              "      <th>22</th>\n",
              "      <td>male_fearful</td>\n",
              "    </tr>\n",
              "    <tr>\n",
              "      <th>23</th>\n",
              "      <td>male_fearful</td>\n",
              "    </tr>\n",
              "    <tr>\n",
              "      <th>24</th>\n",
              "      <td>male_fearful</td>\n",
              "    </tr>\n",
              "    <tr>\n",
              "      <th>25</th>\n",
              "      <td>male_fearful</td>\n",
              "    </tr>\n",
              "    <tr>\n",
              "      <th>26</th>\n",
              "      <td>male_fearful</td>\n",
              "    </tr>\n",
              "    <tr>\n",
              "      <th>27</th>\n",
              "      <td>male_fearful</td>\n",
              "    </tr>\n",
              "    <tr>\n",
              "      <th>28</th>\n",
              "      <td>male_fearful</td>\n",
              "    </tr>\n",
              "    <tr>\n",
              "      <th>29</th>\n",
              "      <td>male_fearful</td>\n",
              "    </tr>\n",
              "    <tr>\n",
              "      <th>...</th>\n",
              "      <td>...</td>\n",
              "    </tr>\n",
              "    <tr>\n",
              "      <th>70</th>\n",
              "      <td>male_angry</td>\n",
              "    </tr>\n",
              "    <tr>\n",
              "      <th>71</th>\n",
              "      <td>male_angry</td>\n",
              "    </tr>\n",
              "    <tr>\n",
              "      <th>72</th>\n",
              "      <td>male_angry</td>\n",
              "    </tr>\n",
              "    <tr>\n",
              "      <th>73</th>\n",
              "      <td>male_angry</td>\n",
              "    </tr>\n",
              "    <tr>\n",
              "      <th>74</th>\n",
              "      <td>male_angry</td>\n",
              "    </tr>\n",
              "    <tr>\n",
              "      <th>75</th>\n",
              "      <td>male_fearful</td>\n",
              "    </tr>\n",
              "    <tr>\n",
              "      <th>76</th>\n",
              "      <td>male_fearful</td>\n",
              "    </tr>\n",
              "    <tr>\n",
              "      <th>77</th>\n",
              "      <td>male_fearful</td>\n",
              "    </tr>\n",
              "    <tr>\n",
              "      <th>78</th>\n",
              "      <td>male_fearful</td>\n",
              "    </tr>\n",
              "    <tr>\n",
              "      <th>79</th>\n",
              "      <td>male_fearful</td>\n",
              "    </tr>\n",
              "    <tr>\n",
              "      <th>80</th>\n",
              "      <td>male_fearful</td>\n",
              "    </tr>\n",
              "    <tr>\n",
              "      <th>81</th>\n",
              "      <td>male_fearful</td>\n",
              "    </tr>\n",
              "    <tr>\n",
              "      <th>82</th>\n",
              "      <td>male_fearful</td>\n",
              "    </tr>\n",
              "    <tr>\n",
              "      <th>83</th>\n",
              "      <td>male_fearful</td>\n",
              "    </tr>\n",
              "    <tr>\n",
              "      <th>84</th>\n",
              "      <td>male_fearful</td>\n",
              "    </tr>\n",
              "    <tr>\n",
              "      <th>85</th>\n",
              "      <td>male_fearful</td>\n",
              "    </tr>\n",
              "    <tr>\n",
              "      <th>86</th>\n",
              "      <td>male_fearful</td>\n",
              "    </tr>\n",
              "    <tr>\n",
              "      <th>87</th>\n",
              "      <td>male_fearful</td>\n",
              "    </tr>\n",
              "    <tr>\n",
              "      <th>88</th>\n",
              "      <td>male_fearful</td>\n",
              "    </tr>\n",
              "    <tr>\n",
              "      <th>89</th>\n",
              "      <td>male_fearful</td>\n",
              "    </tr>\n",
              "    <tr>\n",
              "      <th>90</th>\n",
              "      <td>male_happy</td>\n",
              "    </tr>\n",
              "    <tr>\n",
              "      <th>91</th>\n",
              "      <td>male_happy</td>\n",
              "    </tr>\n",
              "    <tr>\n",
              "      <th>92</th>\n",
              "      <td>male_happy</td>\n",
              "    </tr>\n",
              "    <tr>\n",
              "      <th>93</th>\n",
              "      <td>male_happy</td>\n",
              "    </tr>\n",
              "    <tr>\n",
              "      <th>94</th>\n",
              "      <td>male_happy</td>\n",
              "    </tr>\n",
              "    <tr>\n",
              "      <th>95</th>\n",
              "      <td>male_happy</td>\n",
              "    </tr>\n",
              "    <tr>\n",
              "      <th>96</th>\n",
              "      <td>male_happy</td>\n",
              "    </tr>\n",
              "    <tr>\n",
              "      <th>97</th>\n",
              "      <td>male_happy</td>\n",
              "    </tr>\n",
              "    <tr>\n",
              "      <th>98</th>\n",
              "      <td>male_happy</td>\n",
              "    </tr>\n",
              "    <tr>\n",
              "      <th>99</th>\n",
              "      <td>male_happy</td>\n",
              "    </tr>\n",
              "  </tbody>\n",
              "</table>\n",
              "<p>100 rows × 1 columns</p>\n",
              "</div>"
            ],
            "text/plain": [
              "               0\n",
              "0     male_angry\n",
              "1     male_angry\n",
              "2     male_angry\n",
              "3     male_angry\n",
              "4     male_angry\n",
              "5     male_angry\n",
              "6     male_angry\n",
              "7     male_angry\n",
              "8     male_angry\n",
              "9     male_angry\n",
              "10    male_angry\n",
              "11    male_angry\n",
              "12    male_angry\n",
              "13    male_angry\n",
              "14    male_angry\n",
              "15  male_fearful\n",
              "16  male_fearful\n",
              "17  male_fearful\n",
              "18  male_fearful\n",
              "19  male_fearful\n",
              "20  male_fearful\n",
              "21  male_fearful\n",
              "22  male_fearful\n",
              "23  male_fearful\n",
              "24  male_fearful\n",
              "25  male_fearful\n",
              "26  male_fearful\n",
              "27  male_fearful\n",
              "28  male_fearful\n",
              "29  male_fearful\n",
              "..           ...\n",
              "70    male_angry\n",
              "71    male_angry\n",
              "72    male_angry\n",
              "73    male_angry\n",
              "74    male_angry\n",
              "75  male_fearful\n",
              "76  male_fearful\n",
              "77  male_fearful\n",
              "78  male_fearful\n",
              "79  male_fearful\n",
              "80  male_fearful\n",
              "81  male_fearful\n",
              "82  male_fearful\n",
              "83  male_fearful\n",
              "84  male_fearful\n",
              "85  male_fearful\n",
              "86  male_fearful\n",
              "87  male_fearful\n",
              "88  male_fearful\n",
              "89  male_fearful\n",
              "90    male_happy\n",
              "91    male_happy\n",
              "92    male_happy\n",
              "93    male_happy\n",
              "94    male_happy\n",
              "95    male_happy\n",
              "96    male_happy\n",
              "97    male_happy\n",
              "98    male_happy\n",
              "99    male_happy\n",
              "\n",
              "[100 rows x 1 columns]"
            ]
          },
          "execution_count": 34,
          "metadata": {},
          "output_type": "execute_result"
        }
      ],
      "source": [
        "labels[:100]\n"
      ]
    },
    {
      "cell_type": "code",
      "execution_count": null,
      "metadata": {
        "id": "7d8903b1"
      },
      "outputs": [],
      "source": [
        "mylist = []\n",
        "for item in all_files_path:\n",
        "    mylist.append(item.split('/')[-1])"
      ]
    },
    {
      "cell_type": "code",
      "execution_count": null,
      "metadata": {
        "id": "01c3ce1e",
        "outputId": "dbd1a62b-5797-439c-d962-65b6fd03f7aa"
      },
      "outputs": [
        {
          "data": {
            "text/plain": [
              "1920"
            ]
          },
          "execution_count": 36,
          "metadata": {},
          "output_type": "execute_result"
        }
      ],
      "source": [
        "len(mylist)"
      ]
    },
    {
      "cell_type": "code",
      "execution_count": null,
      "metadata": {
        "id": "06fcbfee",
        "outputId": "87026bf6-04cf-4e39-e912-5c681dfc39e2"
      },
      "outputs": [
        {
          "data": {
            "text/plain": [
              "(['a01.wav',\n",
              "  'a02.wav',\n",
              "  'a03.wav',\n",
              "  'a04.wav',\n",
              "  'a05.wav',\n",
              "  'a06.wav',\n",
              "  'a07.wav',\n",
              "  'a08.wav',\n",
              "  'a09.wav',\n",
              "  'a10.wav'],\n",
              " ['dataset\\\\AudioData/DC/a01.wav',\n",
              "  'dataset\\\\AudioData/DC/a02.wav',\n",
              "  'dataset\\\\AudioData/DC/a03.wav',\n",
              "  'dataset\\\\AudioData/DC/a04.wav',\n",
              "  'dataset\\\\AudioData/DC/a05.wav',\n",
              "  'dataset\\\\AudioData/DC/a06.wav',\n",
              "  'dataset\\\\AudioData/DC/a07.wav',\n",
              "  'dataset\\\\AudioData/DC/a08.wav',\n",
              "  'dataset\\\\AudioData/DC/a09.wav',\n",
              "  'dataset\\\\AudioData/DC/a10.wav'])"
            ]
          },
          "execution_count": 37,
          "metadata": {},
          "output_type": "execute_result"
        }
      ],
      "source": [
        "mylist[:10],all_files_path[:10]"
      ]
    },
    {
      "cell_type": "code",
      "execution_count": null,
      "metadata": {
        "id": "7d366550"
      },
      "outputs": [],
      "source": [
        "# Getting the features of audio files using librosa\n",
        "\n",
        "df = pd.DataFrame(columns=['feature'])\n",
        "bookmark=0\n",
        "for index,y in enumerate(mylist):\n",
        "    if mylist[index][6:-16]!='01' and mylist[index][6:-16]!='07' and mylist[index][6:-16]!='08' and mylist[index][:2]!='su' and mylist[index][:1]!='n' and mylist[index][:1]!='d':\n",
        "        X, sample_rate = librosa.load(all_files_path[index], res_type='kaiser_fast',duration=2.5,sr=22050*2,offset=0.5)\n",
        "        sample_rate = np.array(sample_rate)\n",
        "        mfccs = np.mean(librosa.feature.mfcc(y=X,  sr=sample_rate,  n_mfcc=13), axis=0)\n",
        "        feature = mfccs\n",
        "        df.loc[bookmark] = [feature]\n",
        "        bookmark=bookmark+1 "
      ]
    },
    {
      "cell_type": "code",
      "execution_count": null,
      "metadata": {
        "id": "b45af4c1",
        "outputId": "ef2fdfb5-b107-45e2-b8b8-cc661a99a9ee"
      },
      "outputs": [
        {
          "data": {
            "text/plain": [
              "1200"
            ]
          },
          "execution_count": 39,
          "metadata": {},
          "output_type": "execute_result"
        }
      ],
      "source": [
        "len(df)"
      ]
    },
    {
      "cell_type": "code",
      "execution_count": null,
      "metadata": {
        "id": "b9ee0ec6"
      },
      "outputs": [],
      "source": [
        "df3 = pd.DataFrame(df['feature'].values.tolist())"
      ]
    },
    {
      "cell_type": "code",
      "execution_count": null,
      "metadata": {
        "id": "b2c07b57"
      },
      "outputs": [],
      "source": [
        "newdf = pd.concat([df3,labels], axis=1)"
      ]
    },
    {
      "cell_type": "code",
      "execution_count": null,
      "metadata": {
        "id": "1f2f9bbf"
      },
      "outputs": [],
      "source": [
        "rnewdf = newdf.rename(index=str, columns={\"0\": \"label\"})"
      ]
    },
    {
      "cell_type": "code",
      "execution_count": null,
      "metadata": {
        "id": "91f4dbbd",
        "outputId": "1b34a5bc-675d-42ef-d170-f60a6ae4419a"
      },
      "outputs": [
        {
          "data": {
            "text/html": [
              "<div>\n",
              "<style scoped>\n",
              "    .dataframe tbody tr th:only-of-type {\n",
              "        vertical-align: middle;\n",
              "    }\n",
              "\n",
              "    .dataframe tbody tr th {\n",
              "        vertical-align: top;\n",
              "    }\n",
              "\n",
              "    .dataframe thead th {\n",
              "        text-align: right;\n",
              "    }\n",
              "</style>\n",
              "<table border=\"1\" class=\"dataframe\">\n",
              "  <thead>\n",
              "    <tr style=\"text-align: right;\">\n",
              "      <th></th>\n",
              "      <th>0</th>\n",
              "      <th>1</th>\n",
              "      <th>2</th>\n",
              "      <th>3</th>\n",
              "      <th>4</th>\n",
              "      <th>5</th>\n",
              "      <th>6</th>\n",
              "      <th>7</th>\n",
              "      <th>8</th>\n",
              "      <th>9</th>\n",
              "      <th>...</th>\n",
              "      <th>207</th>\n",
              "      <th>208</th>\n",
              "      <th>209</th>\n",
              "      <th>210</th>\n",
              "      <th>211</th>\n",
              "      <th>212</th>\n",
              "      <th>213</th>\n",
              "      <th>214</th>\n",
              "      <th>215</th>\n",
              "      <th>0</th>\n",
              "    </tr>\n",
              "  </thead>\n",
              "  <tbody>\n",
              "    <tr>\n",
              "      <th>0</th>\n",
              "      <td>-11.113932</td>\n",
              "      <td>-7.215755</td>\n",
              "      <td>-6.219190</td>\n",
              "      <td>-5.926544</td>\n",
              "      <td>-5.850418</td>\n",
              "      <td>-4.808960</td>\n",
              "      <td>-2.513002</td>\n",
              "      <td>-3.500537</td>\n",
              "      <td>-3.721046</td>\n",
              "      <td>-4.487559</td>\n",
              "      <td>...</td>\n",
              "      <td>-5.023863</td>\n",
              "      <td>-5.254715</td>\n",
              "      <td>-5.234094</td>\n",
              "      <td>-5.310308</td>\n",
              "      <td>-5.621664</td>\n",
              "      <td>-6.072197</td>\n",
              "      <td>-6.611348</td>\n",
              "      <td>-2.509089</td>\n",
              "      <td>1.964608</td>\n",
              "      <td>male_angry</td>\n",
              "    </tr>\n",
              "    <tr>\n",
              "      <th>1</th>\n",
              "      <td>-24.449831</td>\n",
              "      <td>-22.465742</td>\n",
              "      <td>-22.928043</td>\n",
              "      <td>-23.243809</td>\n",
              "      <td>-22.926605</td>\n",
              "      <td>-23.432241</td>\n",
              "      <td>-14.830003</td>\n",
              "      <td>-8.285514</td>\n",
              "      <td>-4.114430</td>\n",
              "      <td>-2.962486</td>\n",
              "      <td>...</td>\n",
              "      <td>-22.633406</td>\n",
              "      <td>-22.511597</td>\n",
              "      <td>-24.300159</td>\n",
              "      <td>-24.496813</td>\n",
              "      <td>-22.895985</td>\n",
              "      <td>-23.511509</td>\n",
              "      <td>-24.342152</td>\n",
              "      <td>-24.530264</td>\n",
              "      <td>-25.457798</td>\n",
              "      <td>male_angry</td>\n",
              "    </tr>\n",
              "    <tr>\n",
              "      <th>2</th>\n",
              "      <td>-25.000114</td>\n",
              "      <td>-24.520254</td>\n",
              "      <td>-24.178185</td>\n",
              "      <td>-23.847450</td>\n",
              "      <td>-15.182783</td>\n",
              "      <td>-10.732484</td>\n",
              "      <td>-8.681472</td>\n",
              "      <td>-8.655434</td>\n",
              "      <td>-7.889996</td>\n",
              "      <td>-6.692607</td>\n",
              "      <td>...</td>\n",
              "      <td>NaN</td>\n",
              "      <td>NaN</td>\n",
              "      <td>NaN</td>\n",
              "      <td>NaN</td>\n",
              "      <td>NaN</td>\n",
              "      <td>NaN</td>\n",
              "      <td>NaN</td>\n",
              "      <td>NaN</td>\n",
              "      <td>NaN</td>\n",
              "      <td>male_angry</td>\n",
              "    </tr>\n",
              "    <tr>\n",
              "      <th>3</th>\n",
              "      <td>-1.529839</td>\n",
              "      <td>-4.333436</td>\n",
              "      <td>-12.285237</td>\n",
              "      <td>-13.083024</td>\n",
              "      <td>-12.041327</td>\n",
              "      <td>-11.819768</td>\n",
              "      <td>-9.414148</td>\n",
              "      <td>-8.153646</td>\n",
              "      <td>-11.953334</td>\n",
              "      <td>-9.900553</td>\n",
              "      <td>...</td>\n",
              "      <td>NaN</td>\n",
              "      <td>NaN</td>\n",
              "      <td>NaN</td>\n",
              "      <td>NaN</td>\n",
              "      <td>NaN</td>\n",
              "      <td>NaN</td>\n",
              "      <td>NaN</td>\n",
              "      <td>NaN</td>\n",
              "      <td>NaN</td>\n",
              "      <td>male_angry</td>\n",
              "    </tr>\n",
              "    <tr>\n",
              "      <th>4</th>\n",
              "      <td>-22.458635</td>\n",
              "      <td>-22.467834</td>\n",
              "      <td>-25.884359</td>\n",
              "      <td>-27.827044</td>\n",
              "      <td>-27.593529</td>\n",
              "      <td>-26.666508</td>\n",
              "      <td>-18.659023</td>\n",
              "      <td>-11.698081</td>\n",
              "      <td>-10.721751</td>\n",
              "      <td>-11.915208</td>\n",
              "      <td>...</td>\n",
              "      <td>-25.854910</td>\n",
              "      <td>-26.821350</td>\n",
              "      <td>-25.436453</td>\n",
              "      <td>-24.179941</td>\n",
              "      <td>-23.281618</td>\n",
              "      <td>-24.167494</td>\n",
              "      <td>-25.228062</td>\n",
              "      <td>-25.902941</td>\n",
              "      <td>-25.589964</td>\n",
              "      <td>male_angry</td>\n",
              "    </tr>\n",
              "  </tbody>\n",
              "</table>\n",
              "<p>5 rows × 217 columns</p>\n",
              "</div>"
            ],
            "text/plain": [
              "         0          1          2          3          4          5    \\\n",
              "0 -11.113932  -7.215755  -6.219190  -5.926544  -5.850418  -4.808960   \n",
              "1 -24.449831 -22.465742 -22.928043 -23.243809 -22.926605 -23.432241   \n",
              "2 -25.000114 -24.520254 -24.178185 -23.847450 -15.182783 -10.732484   \n",
              "3  -1.529839  -4.333436 -12.285237 -13.083024 -12.041327 -11.819768   \n",
              "4 -22.458635 -22.467834 -25.884359 -27.827044 -27.593529 -26.666508   \n",
              "\n",
              "         6          7          8          9    ...        207        208  \\\n",
              "0  -2.513002  -3.500537  -3.721046  -4.487559  ...  -5.023863  -5.254715   \n",
              "1 -14.830003  -8.285514  -4.114430  -2.962486  ... -22.633406 -22.511597   \n",
              "2  -8.681472  -8.655434  -7.889996  -6.692607  ...        NaN        NaN   \n",
              "3  -9.414148  -8.153646 -11.953334  -9.900553  ...        NaN        NaN   \n",
              "4 -18.659023 -11.698081 -10.721751 -11.915208  ... -25.854910 -26.821350   \n",
              "\n",
              "         209        210        211        212        213        214  \\\n",
              "0  -5.234094  -5.310308  -5.621664  -6.072197  -6.611348  -2.509089   \n",
              "1 -24.300159 -24.496813 -22.895985 -23.511509 -24.342152 -24.530264   \n",
              "2        NaN        NaN        NaN        NaN        NaN        NaN   \n",
              "3        NaN        NaN        NaN        NaN        NaN        NaN   \n",
              "4 -25.436453 -24.179941 -23.281618 -24.167494 -25.228062 -25.902941   \n",
              "\n",
              "         215         0    \n",
              "0   1.964608  male_angry  \n",
              "1 -25.457798  male_angry  \n",
              "2        NaN  male_angry  \n",
              "3        NaN  male_angry  \n",
              "4 -25.589964  male_angry  \n",
              "\n",
              "[5 rows x 217 columns]"
            ]
          },
          "execution_count": 47,
          "metadata": {},
          "output_type": "execute_result"
        }
      ],
      "source": [
        "rnewdf[:5]"
      ]
    },
    {
      "cell_type": "code",
      "execution_count": null,
      "metadata": {
        "id": "354e404d"
      },
      "outputs": [],
      "source": [
        "rnewdf.to_csv('rnewdf.csv')"
      ]
    },
    {
      "cell_type": "code",
      "execution_count": null,
      "metadata": {
        "id": "3a2b6cd7",
        "outputId": "b11cc43b-4e9a-4ae2-a632-34ac423208e6"
      },
      "outputs": [
        {
          "data": {
            "text/plain": [
              "1200"
            ]
          },
          "execution_count": 49,
          "metadata": {},
          "output_type": "execute_result"
        }
      ],
      "source": [
        "len(rnewdf)"
      ]
    },
    {
      "cell_type": "code",
      "execution_count": null,
      "metadata": {
        "id": "c3c937f0",
        "outputId": "56d74a46-7b8c-474d-e357-ea92308c7a6c"
      },
      "outputs": [
        {
          "data": {
            "text/plain": [
              "2209"
            ]
          },
          "execution_count": 50,
          "metadata": {},
          "output_type": "execute_result"
        }
      ],
      "source": [
        "rnewdf.isnull().sum().sum()"
      ]
    },
    {
      "cell_type": "code",
      "execution_count": null,
      "metadata": {
        "id": "f7a23b7c"
      },
      "outputs": [],
      "source": [
        "clean_df = rnewdf.reset_index(drop=True)"
      ]
    },
    {
      "cell_type": "code",
      "execution_count": null,
      "metadata": {
        "id": "d92d38f1",
        "outputId": "a3c73ba3-8107-4af7-cd2c-50dc0d310137"
      },
      "outputs": [
        {
          "data": {
            "text/plain": [
              "1200"
            ]
          },
          "execution_count": 52,
          "metadata": {},
          "output_type": "execute_result"
        }
      ],
      "source": [
        "len(clean_df)"
      ]
    },
    {
      "cell_type": "code",
      "execution_count": null,
      "metadata": {
        "id": "d7b05afa",
        "outputId": "74f6f673-7616-481d-8720-2f8caa3ed4de"
      },
      "outputs": [
        {
          "data": {
            "text/plain": [
              "2209"
            ]
          },
          "execution_count": 53,
          "metadata": {},
          "output_type": "execute_result"
        }
      ],
      "source": [
        "clean_df.isnull().sum().sum()"
      ]
    },
    {
      "cell_type": "code",
      "execution_count": null,
      "metadata": {
        "id": "e96dea20"
      },
      "outputs": [],
      "source": [
        "# clean_df = rnewdf.dropna()"
      ]
    },
    {
      "cell_type": "code",
      "execution_count": null,
      "metadata": {
        "id": "3bf54dd3"
      },
      "outputs": [],
      "source": [
        "# clean_df[:5]"
      ]
    },
    {
      "cell_type": "code",
      "execution_count": null,
      "metadata": {
        "id": "7899adb3"
      },
      "outputs": [],
      "source": [
        "# len(clean_df)"
      ]
    },
    {
      "cell_type": "code",
      "execution_count": null,
      "metadata": {
        "id": "0d286d59",
        "outputId": "cdf34c76-7870-4f1e-b5e1-9b27a2496a73"
      },
      "outputs": [
        {
          "data": {
            "text/html": [
              "<div>\n",
              "<style scoped>\n",
              "    .dataframe tbody tr th:only-of-type {\n",
              "        vertical-align: middle;\n",
              "    }\n",
              "\n",
              "    .dataframe tbody tr th {\n",
              "        vertical-align: top;\n",
              "    }\n",
              "\n",
              "    .dataframe thead th {\n",
              "        text-align: right;\n",
              "    }\n",
              "</style>\n",
              "<table border=\"1\" class=\"dataframe\">\n",
              "  <thead>\n",
              "    <tr style=\"text-align: right;\">\n",
              "      <th></th>\n",
              "      <th>0</th>\n",
              "      <th>1</th>\n",
              "      <th>2</th>\n",
              "      <th>3</th>\n",
              "      <th>4</th>\n",
              "      <th>5</th>\n",
              "      <th>6</th>\n",
              "      <th>7</th>\n",
              "      <th>8</th>\n",
              "      <th>9</th>\n",
              "      <th>...</th>\n",
              "      <th>207</th>\n",
              "      <th>208</th>\n",
              "      <th>209</th>\n",
              "      <th>210</th>\n",
              "      <th>211</th>\n",
              "      <th>212</th>\n",
              "      <th>213</th>\n",
              "      <th>214</th>\n",
              "      <th>215</th>\n",
              "      <th>0</th>\n",
              "    </tr>\n",
              "  </thead>\n",
              "  <tbody>\n",
              "    <tr>\n",
              "      <th>288</th>\n",
              "      <td>-57.672386</td>\n",
              "      <td>-58.346806</td>\n",
              "      <td>-58.554077</td>\n",
              "      <td>-57.433384</td>\n",
              "      <td>-56.866211</td>\n",
              "      <td>-57.498203</td>\n",
              "      <td>-57.134193</td>\n",
              "      <td>-57.447025</td>\n",
              "      <td>-57.418476</td>\n",
              "      <td>-57.487686</td>\n",
              "      <td>...</td>\n",
              "      <td>-54.916096</td>\n",
              "      <td>-54.858940</td>\n",
              "      <td>-56.772697</td>\n",
              "      <td>-55.587261</td>\n",
              "      <td>-54.187275</td>\n",
              "      <td>-52.968323</td>\n",
              "      <td>-53.157589</td>\n",
              "      <td>-52.669109</td>\n",
              "      <td>-52.821976</td>\n",
              "      <td>female_happy</td>\n",
              "    </tr>\n",
              "    <tr>\n",
              "      <th>40</th>\n",
              "      <td>-5.412477</td>\n",
              "      <td>-6.760818</td>\n",
              "      <td>-9.715000</td>\n",
              "      <td>-10.901871</td>\n",
              "      <td>-10.930171</td>\n",
              "      <td>-11.509630</td>\n",
              "      <td>-11.383668</td>\n",
              "      <td>-11.377580</td>\n",
              "      <td>-10.658082</td>\n",
              "      <td>-7.542358</td>\n",
              "      <td>...</td>\n",
              "      <td>-12.720633</td>\n",
              "      <td>-12.530707</td>\n",
              "      <td>-11.047561</td>\n",
              "      <td>-10.174129</td>\n",
              "      <td>-8.591426</td>\n",
              "      <td>-8.287189</td>\n",
              "      <td>-8.286091</td>\n",
              "      <td>-10.920873</td>\n",
              "      <td>-11.975821</td>\n",
              "      <td>male_happy</td>\n",
              "    </tr>\n",
              "    <tr>\n",
              "      <th>1099</th>\n",
              "      <td>-52.832336</td>\n",
              "      <td>-52.688438</td>\n",
              "      <td>-52.211685</td>\n",
              "      <td>-51.576748</td>\n",
              "      <td>-51.757809</td>\n",
              "      <td>-51.686871</td>\n",
              "      <td>-52.709007</td>\n",
              "      <td>-53.476116</td>\n",
              "      <td>-54.586891</td>\n",
              "      <td>-56.060482</td>\n",
              "      <td>...</td>\n",
              "      <td>-51.755314</td>\n",
              "      <td>-52.064903</td>\n",
              "      <td>-49.577900</td>\n",
              "      <td>-49.165909</td>\n",
              "      <td>-49.457909</td>\n",
              "      <td>-51.753365</td>\n",
              "      <td>-53.608818</td>\n",
              "      <td>-53.711086</td>\n",
              "      <td>-52.081234</td>\n",
              "      <td>female_sad</td>\n",
              "    </tr>\n",
              "    <tr>\n",
              "      <th>995</th>\n",
              "      <td>-45.133114</td>\n",
              "      <td>-45.986202</td>\n",
              "      <td>-47.102135</td>\n",
              "      <td>-47.071896</td>\n",
              "      <td>-50.197021</td>\n",
              "      <td>-50.810013</td>\n",
              "      <td>-50.140190</td>\n",
              "      <td>-50.094822</td>\n",
              "      <td>-52.950752</td>\n",
              "      <td>-53.276470</td>\n",
              "      <td>...</td>\n",
              "      <td>-51.100155</td>\n",
              "      <td>-50.897766</td>\n",
              "      <td>-50.474586</td>\n",
              "      <td>-49.177994</td>\n",
              "      <td>-48.331749</td>\n",
              "      <td>-49.057755</td>\n",
              "      <td>-47.925785</td>\n",
              "      <td>-48.229755</td>\n",
              "      <td>-51.377739</td>\n",
              "      <td>male_fearful</td>\n",
              "    </tr>\n",
              "    <tr>\n",
              "      <th>1100</th>\n",
              "      <td>-58.361904</td>\n",
              "      <td>-57.364544</td>\n",
              "      <td>-55.829670</td>\n",
              "      <td>-56.212971</td>\n",
              "      <td>-56.305969</td>\n",
              "      <td>-50.616493</td>\n",
              "      <td>-48.076084</td>\n",
              "      <td>-50.597900</td>\n",
              "      <td>-53.244297</td>\n",
              "      <td>-52.297489</td>\n",
              "      <td>...</td>\n",
              "      <td>-51.827152</td>\n",
              "      <td>-50.874004</td>\n",
              "      <td>-49.967148</td>\n",
              "      <td>-50.748989</td>\n",
              "      <td>-53.646519</td>\n",
              "      <td>-57.466526</td>\n",
              "      <td>-56.044880</td>\n",
              "      <td>-56.567177</td>\n",
              "      <td>-56.758747</td>\n",
              "      <td>female_sad</td>\n",
              "    </tr>\n",
              "    <tr>\n",
              "      <th>1050</th>\n",
              "      <td>-55.943672</td>\n",
              "      <td>-55.943672</td>\n",
              "      <td>-55.943672</td>\n",
              "      <td>-55.542545</td>\n",
              "      <td>-55.430832</td>\n",
              "      <td>-52.677505</td>\n",
              "      <td>-52.143353</td>\n",
              "      <td>-53.764061</td>\n",
              "      <td>-53.548458</td>\n",
              "      <td>-51.338737</td>\n",
              "      <td>...</td>\n",
              "      <td>-44.527527</td>\n",
              "      <td>-45.046543</td>\n",
              "      <td>-46.768936</td>\n",
              "      <td>-47.487576</td>\n",
              "      <td>-46.356548</td>\n",
              "      <td>-46.441891</td>\n",
              "      <td>-46.202534</td>\n",
              "      <td>-47.446404</td>\n",
              "      <td>-50.004128</td>\n",
              "      <td>male_happy</td>\n",
              "    </tr>\n",
              "    <tr>\n",
              "      <th>820</th>\n",
              "      <td>-48.389320</td>\n",
              "      <td>-48.952263</td>\n",
              "      <td>-49.989380</td>\n",
              "      <td>-50.773804</td>\n",
              "      <td>-49.990219</td>\n",
              "      <td>-50.252659</td>\n",
              "      <td>-50.450272</td>\n",
              "      <td>-50.274849</td>\n",
              "      <td>-52.041180</td>\n",
              "      <td>-52.054520</td>\n",
              "      <td>...</td>\n",
              "      <td>-41.198826</td>\n",
              "      <td>-42.128616</td>\n",
              "      <td>-43.413486</td>\n",
              "      <td>-43.139751</td>\n",
              "      <td>-42.195766</td>\n",
              "      <td>-43.316048</td>\n",
              "      <td>-45.948830</td>\n",
              "      <td>-43.787823</td>\n",
              "      <td>-42.815292</td>\n",
              "      <td>male_sad</td>\n",
              "    </tr>\n",
              "    <tr>\n",
              "      <th>622</th>\n",
              "      <td>-54.114265</td>\n",
              "      <td>-51.924953</td>\n",
              "      <td>-52.172348</td>\n",
              "      <td>-50.519962</td>\n",
              "      <td>-50.306618</td>\n",
              "      <td>-52.732296</td>\n",
              "      <td>-50.104778</td>\n",
              "      <td>-50.054977</td>\n",
              "      <td>-49.923176</td>\n",
              "      <td>-51.393005</td>\n",
              "      <td>...</td>\n",
              "      <td>-44.503819</td>\n",
              "      <td>-44.039238</td>\n",
              "      <td>-44.882706</td>\n",
              "      <td>-46.700562</td>\n",
              "      <td>-47.118050</td>\n",
              "      <td>-46.384579</td>\n",
              "      <td>-46.734627</td>\n",
              "      <td>-47.983723</td>\n",
              "      <td>-46.864223</td>\n",
              "      <td>female_sad</td>\n",
              "    </tr>\n",
              "    <tr>\n",
              "      <th>588</th>\n",
              "      <td>-43.826744</td>\n",
              "      <td>-44.310905</td>\n",
              "      <td>-44.328308</td>\n",
              "      <td>-44.203773</td>\n",
              "      <td>-44.118374</td>\n",
              "      <td>-44.075668</td>\n",
              "      <td>-43.239174</td>\n",
              "      <td>-43.239971</td>\n",
              "      <td>-43.038307</td>\n",
              "      <td>-42.939907</td>\n",
              "      <td>...</td>\n",
              "      <td>-20.941551</td>\n",
              "      <td>-25.617258</td>\n",
              "      <td>-26.698870</td>\n",
              "      <td>-25.630836</td>\n",
              "      <td>-28.005306</td>\n",
              "      <td>-30.681026</td>\n",
              "      <td>-32.177219</td>\n",
              "      <td>-31.612103</td>\n",
              "      <td>-30.871141</td>\n",
              "      <td>male_angry</td>\n",
              "    </tr>\n",
              "    <tr>\n",
              "      <th>445</th>\n",
              "      <td>-70.692863</td>\n",
              "      <td>-69.985153</td>\n",
              "      <td>-71.187737</td>\n",
              "      <td>-70.811371</td>\n",
              "      <td>-69.813614</td>\n",
              "      <td>-69.616936</td>\n",
              "      <td>-68.459938</td>\n",
              "      <td>-70.129707</td>\n",
              "      <td>-72.018173</td>\n",
              "      <td>-72.018173</td>\n",
              "      <td>...</td>\n",
              "      <td>-45.056293</td>\n",
              "      <td>-45.750526</td>\n",
              "      <td>-44.787312</td>\n",
              "      <td>-43.502945</td>\n",
              "      <td>-44.521019</td>\n",
              "      <td>-44.736515</td>\n",
              "      <td>-45.162479</td>\n",
              "      <td>-44.443619</td>\n",
              "      <td>-45.885376</td>\n",
              "      <td>female_calm</td>\n",
              "    </tr>\n",
              "  </tbody>\n",
              "</table>\n",
              "<p>10 rows × 217 columns</p>\n",
              "</div>"
            ],
            "text/plain": [
              "            0          1          2          3          4          5    \\\n",
              "288  -57.672386 -58.346806 -58.554077 -57.433384 -56.866211 -57.498203   \n",
              "40    -5.412477  -6.760818  -9.715000 -10.901871 -10.930171 -11.509630   \n",
              "1099 -52.832336 -52.688438 -52.211685 -51.576748 -51.757809 -51.686871   \n",
              "995  -45.133114 -45.986202 -47.102135 -47.071896 -50.197021 -50.810013   \n",
              "1100 -58.361904 -57.364544 -55.829670 -56.212971 -56.305969 -50.616493   \n",
              "1050 -55.943672 -55.943672 -55.943672 -55.542545 -55.430832 -52.677505   \n",
              "820  -48.389320 -48.952263 -49.989380 -50.773804 -49.990219 -50.252659   \n",
              "622  -54.114265 -51.924953 -52.172348 -50.519962 -50.306618 -52.732296   \n",
              "588  -43.826744 -44.310905 -44.328308 -44.203773 -44.118374 -44.075668   \n",
              "445  -70.692863 -69.985153 -71.187737 -70.811371 -69.813614 -69.616936   \n",
              "\n",
              "            6          7          8          9    ...        207        208  \\\n",
              "288  -57.134193 -57.447025 -57.418476 -57.487686  ... -54.916096 -54.858940   \n",
              "40   -11.383668 -11.377580 -10.658082  -7.542358  ... -12.720633 -12.530707   \n",
              "1099 -52.709007 -53.476116 -54.586891 -56.060482  ... -51.755314 -52.064903   \n",
              "995  -50.140190 -50.094822 -52.950752 -53.276470  ... -51.100155 -50.897766   \n",
              "1100 -48.076084 -50.597900 -53.244297 -52.297489  ... -51.827152 -50.874004   \n",
              "1050 -52.143353 -53.764061 -53.548458 -51.338737  ... -44.527527 -45.046543   \n",
              "820  -50.450272 -50.274849 -52.041180 -52.054520  ... -41.198826 -42.128616   \n",
              "622  -50.104778 -50.054977 -49.923176 -51.393005  ... -44.503819 -44.039238   \n",
              "588  -43.239174 -43.239971 -43.038307 -42.939907  ... -20.941551 -25.617258   \n",
              "445  -68.459938 -70.129707 -72.018173 -72.018173  ... -45.056293 -45.750526   \n",
              "\n",
              "            209        210        211        212        213        214  \\\n",
              "288  -56.772697 -55.587261 -54.187275 -52.968323 -53.157589 -52.669109   \n",
              "40   -11.047561 -10.174129  -8.591426  -8.287189  -8.286091 -10.920873   \n",
              "1099 -49.577900 -49.165909 -49.457909 -51.753365 -53.608818 -53.711086   \n",
              "995  -50.474586 -49.177994 -48.331749 -49.057755 -47.925785 -48.229755   \n",
              "1100 -49.967148 -50.748989 -53.646519 -57.466526 -56.044880 -56.567177   \n",
              "1050 -46.768936 -47.487576 -46.356548 -46.441891 -46.202534 -47.446404   \n",
              "820  -43.413486 -43.139751 -42.195766 -43.316048 -45.948830 -43.787823   \n",
              "622  -44.882706 -46.700562 -47.118050 -46.384579 -46.734627 -47.983723   \n",
              "588  -26.698870 -25.630836 -28.005306 -30.681026 -32.177219 -31.612103   \n",
              "445  -44.787312 -43.502945 -44.521019 -44.736515 -45.162479 -44.443619   \n",
              "\n",
              "            215           0    \n",
              "288  -52.821976  female_happy  \n",
              "40   -11.975821    male_happy  \n",
              "1099 -52.081234    female_sad  \n",
              "995  -51.377739  male_fearful  \n",
              "1100 -56.758747    female_sad  \n",
              "1050 -50.004128    male_happy  \n",
              "820  -42.815292      male_sad  \n",
              "622  -46.864223    female_sad  \n",
              "588  -30.871141    male_angry  \n",
              "445  -45.885376   female_calm  \n",
              "\n",
              "[10 rows x 217 columns]"
            ]
          },
          "execution_count": 57,
          "metadata": {},
          "output_type": "execute_result"
        }
      ],
      "source": [
        "from sklearn.utils import shuffle\n",
        "rnewdf = shuffle(newdf)\n",
        "rnewdf[:10]"
      ]
    },
    {
      "cell_type": "code",
      "execution_count": null,
      "metadata": {
        "id": "ecf8b6df"
      },
      "outputs": [],
      "source": [
        "rnewdf=rnewdf.fillna(0)"
      ]
    },
    {
      "cell_type": "code",
      "execution_count": null,
      "metadata": {
        "id": "74874d2f"
      },
      "outputs": [],
      "source": [
        "newdf1 = np.random.rand(len(rnewdf)) < 0.8\n",
        "train = rnewdf[newdf1]\n",
        "test = rnewdf[~newdf1]"
      ]
    },
    {
      "cell_type": "code",
      "execution_count": null,
      "metadata": {
        "id": "5de39373"
      },
      "outputs": [],
      "source": [
        "trainfeatures = train.iloc[:, :-1]"
      ]
    },
    {
      "cell_type": "code",
      "execution_count": null,
      "metadata": {
        "id": "382ceba0"
      },
      "outputs": [],
      "source": [
        "trainlabel = train.iloc[:, -1:]"
      ]
    },
    {
      "cell_type": "code",
      "execution_count": null,
      "metadata": {
        "id": "b7254d2c"
      },
      "outputs": [],
      "source": [
        "testfeatures = test.iloc[:, :-1]"
      ]
    },
    {
      "cell_type": "code",
      "execution_count": null,
      "metadata": {
        "id": "48ff67d9"
      },
      "outputs": [],
      "source": [
        "testlabel = test.iloc[:, -1:]"
      ]
    },
    {
      "cell_type": "code",
      "execution_count": null,
      "metadata": {
        "id": "b147490a",
        "outputId": "1b13962e-4d4b-48c6-dcf8-560919aa2eb1"
      },
      "outputs": [
        {
          "data": {
            "text/plain": [
              "40      -7.854832\n",
              "1099   -55.833042\n",
              "995    -53.386803\n",
              "1136   -68.674118\n",
              "975    -61.780830\n",
              "55     -26.949760\n",
              "5       -7.768034\n",
              "705    -56.331951\n",
              "127    -20.342022\n",
              "687    -68.439621\n",
              "388    -43.798508\n",
              "799    -48.647118\n",
              "103    -24.594036\n",
              "738    -66.946083\n",
              "1196   -44.552925\n",
              "760    -66.608246\n",
              "811    -54.909195\n",
              "535    -50.618351\n",
              "604    -46.946121\n",
              "863    -62.068012\n",
              "540    -49.817043\n",
              "39      -9.266990\n",
              "991    -46.687786\n",
              "547    -56.320541\n",
              "753    -62.252018\n",
              "468    -39.164246\n",
              "223    -35.541641\n",
              "1181   -58.602398\n",
              "1176   -64.688896\n",
              "320    -65.482498\n",
              "          ...    \n",
              "229    -26.977602\n",
              "1124   -58.376591\n",
              "199    -24.365360\n",
              "1109   -50.196846\n",
              "1111   -46.864986\n",
              "1082   -56.111122\n",
              "1096   -62.252403\n",
              "652    -48.336937\n",
              "970    -59.941391\n",
              "916    -39.703220\n",
              "267    -54.089451\n",
              "386    -55.958439\n",
              "645    -71.940353\n",
              "844    -62.749626\n",
              "473    -67.113167\n",
              "1161   -71.407066\n",
              "793    -64.202377\n",
              "151    -17.828186\n",
              "57     -25.849937\n",
              "541    -50.595520\n",
              "301    -65.646355\n",
              "1054   -51.827988\n",
              "369    -60.418480\n",
              "589    -43.828533\n",
              "986    -54.655025\n",
              "313    -58.122543\n",
              "713    -55.226826\n",
              "723    -61.085690\n",
              "0       -5.429011\n",
              "147    -23.909716\n",
              "Name: 10, Length: 222, dtype: float64"
            ]
          },
          "execution_count": 65,
          "metadata": {},
          "output_type": "execute_result"
        }
      ],
      "source": [
        "test[10]"
      ]
    }
  ]
}