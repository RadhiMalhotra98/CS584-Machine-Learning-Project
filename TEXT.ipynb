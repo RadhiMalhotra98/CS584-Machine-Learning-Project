{
  "nbformat": 4,
  "nbformat_minor": 0,
  "metadata": {
    "colab": {
      "name": "TEXT.ipynb",
      "provenance": [],
      "collapsed_sections": []
    },
    "kernelspec": {
      "name": "python3",
      "display_name": "Python 3"
    },
    "language_info": {
      "name": "python"
    }
  },
  "cells": [
    {
      "cell_type": "code",
      "metadata": {
        "id": "Bu7nK9uS_FpB"
      },
      "source": [
        "import numpy as np\n",
        "import pandas as pd\n",
        "import os\n",
        "%matplotlib inline               \n",
        "import numpy as np\n",
        "import matplotlib.pyplot as plt\n",
        "import keras\n",
        "\n",
        "from keras.preprocessing.text import Tokenizer\n",
        "from keras.preprocessing.sequence import pad_sequences \n",
        "from tensorflow.keras.utils import to_categorical\n",
        "from keras.layers import Dense, Input, GlobalMaxPooling1D, Reshape, LSTM, Lambda, Bidirectional\n",
        "from keras.layers import Conv1D, MaxPooling1D, Embedding, Concatenate, AveragePooling1D, TimeDistributed\n",
        "from keras.layers import Conv2D, MaxPooling2D, BatchNormalization, Flatten, MaxPool2D, Conv2D\n",
        "from keras.layers import GlobalMaxPooling2D, Conv3D, MaxPooling3D, ConvLSTM2D, Add,Dropout, Masking\n",
        "from keras.models import Model\n",
        "from keras.initializers import Constant \n",
        "import tensorflow as tf"
      ],
      "execution_count": null,
      "outputs": []
    },
    {
      "cell_type": "code",
      "metadata": {
        "id": "6IJslv2iAQhc",
        "colab": {
          "base_uri": "https://localhost:8080/"
        },
        "outputId": "ee549c03-bfd9-46b0-f7cc-7524dbd6ddbb"
      },
      "source": [
        "pip install contractions"
      ],
      "execution_count": null,
      "outputs": [
        {
          "output_type": "stream",
          "name": "stdout",
          "text": [
            "Requirement already satisfied: contractions in /usr/local/lib/python3.7/dist-packages (0.0.58)\n",
            "Requirement already satisfied: textsearch>=0.0.21 in /usr/local/lib/python3.7/dist-packages (from contractions) (0.0.21)\n",
            "Requirement already satisfied: pyahocorasick in /usr/local/lib/python3.7/dist-packages (from textsearch>=0.0.21->contractions) (1.4.2)\n",
            "Requirement already satisfied: anyascii in /usr/local/lib/python3.7/dist-packages (from textsearch>=0.0.21->contractions) (0.3.0)\n"
          ]
        }
      ]
    },
    {
      "cell_type": "code",
      "metadata": {
        "id": "vrT9tOOJAREa"
      },
      "source": [
        "import contractions"
      ],
      "execution_count": null,
      "outputs": []
    },
    {
      "cell_type": "code",
      "metadata": {
        "id": "Tn77VvWOAYZj"
      },
      "source": [
        "df = pd.read_csv('dev_sent_emo.csv')"
      ],
      "execution_count": null,
      "outputs": []
    },
    {
      "cell_type": "code",
      "metadata": {
        "id": "kqvRH8FSAY4m",
        "colab": {
          "base_uri": "https://localhost:8080/"
        },
        "outputId": "7937c19e-5e0c-4f2a-9140-3c7fe9d9f15e"
      },
      "source": [
        "max(df.Utterance_ID.values)"
      ],
      "execution_count": null,
      "outputs": [
        {
          "output_type": "execute_result",
          "data": {
            "text/plain": [
              "22"
            ]
          },
          "metadata": {},
          "execution_count": 66
        }
      ]
    },
    {
      "cell_type": "code",
      "metadata": {
        "id": "GH7RCw4cApDs",
        "colab": {
          "base_uri": "https://localhost:8080/"
        },
        "outputId": "b9d2e09c-e26e-43bf-c268-71cf192d17fe"
      },
      "source": [
        "df.Speaker.value_counts() # Total speakers 47"
      ],
      "execution_count": null,
      "outputs": [
        {
          "output_type": "execute_result",
          "data": {
            "text/plain": [
              "Ross                 217\n",
              "Phoebe               185\n",
              "Rachel               164\n",
              "Joey                 149\n",
              "Monica               137\n",
              "Chandler             101\n",
              "Frank                 17\n",
              "Carol                 13\n",
              "All                   10\n",
              "Susan                 10\n",
              "Dr. Long               8\n",
              "Tag                    7\n",
              "Estelle                7\n",
              "Joanna                 7\n",
              "Bob                    5\n",
              "Max                    5\n",
              "Whitney                4\n",
              "Jen                    4\n",
              "Woman                  4\n",
              "Lauren                 4\n",
              "Janine                 4\n",
              "Kori                   4\n",
              "Gary                   3\n",
              "The Hot Girl           3\n",
              "Alice                  3\n",
              "Kyle                   3\n",
              "Ross and Rachel        3\n",
              "Cliff                  2\n",
              "TV Announcer           2\n",
              "Ursula                 2\n",
              "Kate                   2\n",
              "Guy                    2\n",
              "Waitress               2\n",
              "Dr. Harad              2\n",
              "Jeannine               2\n",
              "Stage Manager          1\n",
              "Mrs. Green             1\n",
              "Cookie                 1\n",
              "Monica and Rachel      1\n",
              "The Dry Cleaner        1\n",
              "Charlie                1\n",
              "Elizabeth              1\n",
              "Carl                   1\n",
              "Mrs. Geller            1\n",
              "Passerby               1\n",
              "Mark                   1\n",
              "Doctor                 1\n",
              "Name: Speaker, dtype: int64"
            ]
          },
          "metadata": {},
          "execution_count": 67
        }
      ]
    },
    {
      "cell_type": "code",
      "metadata": {
        "id": "zq6RF2wbAsU7",
        "colab": {
          "base_uri": "https://localhost:8080/",
          "height": 81
        },
        "outputId": "2a1de9bd-5cf6-4341-8ba1-0f9a88cb73b4"
      },
      "source": [
        "df[(df.Dialogue_ID == 0) & (df.Utterance_ID == 0)][['Utterance', 'Utterance_ID', 'Speaker', 'Emotion', 'Sentiment']]"
      ],
      "execution_count": null,
      "outputs": [
        {
          "output_type": "execute_result",
          "data": {
            "text/html": [
              "<div>\n",
              "<style scoped>\n",
              "    .dataframe tbody tr th:only-of-type {\n",
              "        vertical-align: middle;\n",
              "    }\n",
              "\n",
              "    .dataframe tbody tr th {\n",
              "        vertical-align: top;\n",
              "    }\n",
              "\n",
              "    .dataframe thead th {\n",
              "        text-align: right;\n",
              "    }\n",
              "</style>\n",
              "<table border=\"1\" class=\"dataframe\">\n",
              "  <thead>\n",
              "    <tr style=\"text-align: right;\">\n",
              "      <th></th>\n",
              "      <th>Utterance</th>\n",
              "      <th>Utterance_ID</th>\n",
              "      <th>Speaker</th>\n",
              "      <th>Emotion</th>\n",
              "      <th>Sentiment</th>\n",
              "    </tr>\n",
              "  </thead>\n",
              "  <tbody>\n",
              "    <tr>\n",
              "      <th>0</th>\n",
              "      <td>Oh my God, he’s lost it. He’s totally lost it.</td>\n",
              "      <td>0</td>\n",
              "      <td>Phoebe</td>\n",
              "      <td>sadness</td>\n",
              "      <td>negative</td>\n",
              "    </tr>\n",
              "  </tbody>\n",
              "</table>\n",
              "</div>"
            ],
            "text/plain": [
              "                                        Utterance  ...  Sentiment\n",
              "0  Oh my God, he’s lost it. He’s totally lost it.  ...   negative\n",
              "\n",
              "[1 rows x 5 columns]"
            ]
          },
          "metadata": {},
          "execution_count": 68
        }
      ]
    },
    {
      "cell_type": "code",
      "metadata": {
        "id": "Z8gNy76eAyBr"
      },
      "source": [
        "from textblob import TextBlob"
      ],
      "execution_count": null,
      "outputs": []
    },
    {
      "cell_type": "code",
      "metadata": {
        "id": "nGTqd81AAyes",
        "colab": {
          "base_uri": "https://localhost:8080/"
        },
        "outputId": "737f981e-2c19-4618-f589-196a0588958e"
      },
      "source": [
        "score = TextBlob(\"this is horrible\")\n",
        "score.sentiment"
      ],
      "execution_count": null,
      "outputs": [
        {
          "output_type": "execute_result",
          "data": {
            "text/plain": [
              "Sentiment(polarity=-1.0, subjectivity=1.0)"
            ]
          },
          "metadata": {},
          "execution_count": 70
        }
      ]
    },
    {
      "cell_type": "code",
      "metadata": {
        "colab": {
          "base_uri": "https://localhost:8080/",
          "height": 597
        },
        "id": "HXfrr8Jg-XkY",
        "outputId": "b7c5c463-b9b5-4a78-8a4c-e17e74cabb7e"
      },
      "source": [
        "df"
      ],
      "execution_count": null,
      "outputs": [
        {
          "output_type": "execute_result",
          "data": {
            "text/html": [
              "<div>\n",
              "<style scoped>\n",
              "    .dataframe tbody tr th:only-of-type {\n",
              "        vertical-align: middle;\n",
              "    }\n",
              "\n",
              "    .dataframe tbody tr th {\n",
              "        vertical-align: top;\n",
              "    }\n",
              "\n",
              "    .dataframe thead th {\n",
              "        text-align: right;\n",
              "    }\n",
              "</style>\n",
              "<table border=\"1\" class=\"dataframe\">\n",
              "  <thead>\n",
              "    <tr style=\"text-align: right;\">\n",
              "      <th></th>\n",
              "      <th>Sr No.</th>\n",
              "      <th>Utterance</th>\n",
              "      <th>Speaker</th>\n",
              "      <th>Emotion</th>\n",
              "      <th>Sentiment</th>\n",
              "      <th>Dialogue_ID</th>\n",
              "      <th>Utterance_ID</th>\n",
              "      <th>Season</th>\n",
              "      <th>Episode</th>\n",
              "      <th>StartTime</th>\n",
              "      <th>EndTime</th>\n",
              "    </tr>\n",
              "  </thead>\n",
              "  <tbody>\n",
              "    <tr>\n",
              "      <th>0</th>\n",
              "      <td>1</td>\n",
              "      <td>Oh my God, he’s lost it. He’s totally lost it.</td>\n",
              "      <td>Phoebe</td>\n",
              "      <td>sadness</td>\n",
              "      <td>negative</td>\n",
              "      <td>0</td>\n",
              "      <td>0</td>\n",
              "      <td>4</td>\n",
              "      <td>7</td>\n",
              "      <td>00:20:57,256</td>\n",
              "      <td>00:21:00,049</td>\n",
              "    </tr>\n",
              "    <tr>\n",
              "      <th>1</th>\n",
              "      <td>2</td>\n",
              "      <td>What?</td>\n",
              "      <td>Monica</td>\n",
              "      <td>surprise</td>\n",
              "      <td>negative</td>\n",
              "      <td>0</td>\n",
              "      <td>1</td>\n",
              "      <td>4</td>\n",
              "      <td>7</td>\n",
              "      <td>00:21:01,927</td>\n",
              "      <td>00:21:03,261</td>\n",
              "    </tr>\n",
              "    <tr>\n",
              "      <th>2</th>\n",
              "      <td>3</td>\n",
              "      <td>Or! Or, we could go to the bank, close our acc...</td>\n",
              "      <td>Ross</td>\n",
              "      <td>neutral</td>\n",
              "      <td>neutral</td>\n",
              "      <td>1</td>\n",
              "      <td>0</td>\n",
              "      <td>4</td>\n",
              "      <td>4</td>\n",
              "      <td>00:12:24,660</td>\n",
              "      <td>00:12:30,915</td>\n",
              "    </tr>\n",
              "    <tr>\n",
              "      <th>3</th>\n",
              "      <td>4</td>\n",
              "      <td>You’re a genius!</td>\n",
              "      <td>Chandler</td>\n",
              "      <td>joy</td>\n",
              "      <td>positive</td>\n",
              "      <td>1</td>\n",
              "      <td>1</td>\n",
              "      <td>4</td>\n",
              "      <td>4</td>\n",
              "      <td>00:12:32,334</td>\n",
              "      <td>00:12:33,960</td>\n",
              "    </tr>\n",
              "    <tr>\n",
              "      <th>4</th>\n",
              "      <td>5</td>\n",
              "      <td>Aww, man, now we won’t be bank buddies!</td>\n",
              "      <td>Joey</td>\n",
              "      <td>sadness</td>\n",
              "      <td>negative</td>\n",
              "      <td>1</td>\n",
              "      <td>2</td>\n",
              "      <td>4</td>\n",
              "      <td>4</td>\n",
              "      <td>00:12:34,211</td>\n",
              "      <td>00:12:37,505</td>\n",
              "    </tr>\n",
              "    <tr>\n",
              "      <th>...</th>\n",
              "      <td>...</td>\n",
              "      <td>...</td>\n",
              "      <td>...</td>\n",
              "      <td>...</td>\n",
              "      <td>...</td>\n",
              "      <td>...</td>\n",
              "      <td>...</td>\n",
              "      <td>...</td>\n",
              "      <td>...</td>\n",
              "      <td>...</td>\n",
              "      <td>...</td>\n",
              "    </tr>\n",
              "    <tr>\n",
              "      <th>1104</th>\n",
              "      <td>1174</td>\n",
              "      <td>No.</td>\n",
              "      <td>Monica</td>\n",
              "      <td>sadness</td>\n",
              "      <td>negative</td>\n",
              "      <td>113</td>\n",
              "      <td>9</td>\n",
              "      <td>6</td>\n",
              "      <td>2</td>\n",
              "      <td>00:19:28,792</td>\n",
              "      <td>00:19:29,876</td>\n",
              "    </tr>\n",
              "    <tr>\n",
              "      <th>1105</th>\n",
              "      <td>1175</td>\n",
              "      <td>What? Oh my God! I’m gonna miss you so much!</td>\n",
              "      <td>Rachel</td>\n",
              "      <td>sadness</td>\n",
              "      <td>negative</td>\n",
              "      <td>113</td>\n",
              "      <td>10</td>\n",
              "      <td>6</td>\n",
              "      <td>2</td>\n",
              "      <td>00:19:33,213</td>\n",
              "      <td>00:19:35,965</td>\n",
              "    </tr>\n",
              "    <tr>\n",
              "      <th>1106</th>\n",
              "      <td>1176</td>\n",
              "      <td>I’m gonna miss you!</td>\n",
              "      <td>Monica</td>\n",
              "      <td>sadness</td>\n",
              "      <td>negative</td>\n",
              "      <td>113</td>\n",
              "      <td>11</td>\n",
              "      <td>6</td>\n",
              "      <td>2</td>\n",
              "      <td>00:19:36,175</td>\n",
              "      <td>00:19:37,967</td>\n",
              "    </tr>\n",
              "    <tr>\n",
              "      <th>1107</th>\n",
              "      <td>1177</td>\n",
              "      <td>I mean it’s the end of an era!</td>\n",
              "      <td>Rachel</td>\n",
              "      <td>sadness</td>\n",
              "      <td>negative</td>\n",
              "      <td>113</td>\n",
              "      <td>12</td>\n",
              "      <td>6</td>\n",
              "      <td>2</td>\n",
              "      <td>00:19:39,094</td>\n",
              "      <td>00:19:40,928</td>\n",
              "    </tr>\n",
              "    <tr>\n",
              "      <th>1108</th>\n",
              "      <td>1178</td>\n",
              "      <td>I know!</td>\n",
              "      <td>Monica</td>\n",
              "      <td>sadness</td>\n",
              "      <td>negative</td>\n",
              "      <td>113</td>\n",
              "      <td>13</td>\n",
              "      <td>6</td>\n",
              "      <td>2</td>\n",
              "      <td>00:19:41,138</td>\n",
              "      <td>00:19:42,638</td>\n",
              "    </tr>\n",
              "  </tbody>\n",
              "</table>\n",
              "<p>1109 rows × 11 columns</p>\n",
              "</div>"
            ],
            "text/plain": [
              "      Sr No.  ...       EndTime\n",
              "0          1  ...  00:21:00,049\n",
              "1          2  ...  00:21:03,261\n",
              "2          3  ...  00:12:30,915\n",
              "3          4  ...  00:12:33,960\n",
              "4          5  ...  00:12:37,505\n",
              "...      ...  ...           ...\n",
              "1104    1174  ...  00:19:29,876\n",
              "1105    1175  ...  00:19:35,965\n",
              "1106    1176  ...  00:19:37,967\n",
              "1107    1177  ...  00:19:40,928\n",
              "1108    1178  ...  00:19:42,638\n",
              "\n",
              "[1109 rows x 11 columns]"
            ]
          },
          "metadata": {},
          "execution_count": 71
        }
      ]
    },
    {
      "cell_type": "code",
      "metadata": {
        "id": "aO7-e1T--iby"
      },
      "source": [
        ""
      ],
      "execution_count": null,
      "outputs": []
    }
  ]
}